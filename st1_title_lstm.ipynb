{
 "cells": [
  {
   "cell_type": "code",
   "execution_count": 1,
   "id": "5411d694-03b7-415f-8862-215b5d008f51",
   "metadata": {},
   "outputs": [],
   "source": [
    "#import all the necessary libraries\n",
    "import pandas as pd \n",
    "import numpy as  np\n",
    "import re\n",
    "\n",
    "from sklearn.feature_extraction.text import TfidfVectorizer\n",
    "\n",
    "#import all the necessary libraries to build a neural network classifier from tensorflow\n",
    "\n",
    "import tensorflow as tf\n",
    "from tensorflow.keras.models import Sequential                   \n",
    "from tensorflow.keras.layers import Dense                        #import fully connected neural net layers\n",
    "from tensorflow.keras.optimizers import Adam                     #choose adam as the optimization algorithm\n",
    "from tensorflow.keras.losses import CategoricalCrossentropy      #cost function needed for softmax classification if the labels are \n",
    "                                                                 #one hot encoded\n",
    "\n",
    "from tensorflow.keras.regularizers import l2                     #add regularization in order to avoid overfitting \n",
    "\n",
    "from sklearn.model_selection import train_test_split             #to split the training set into train and test set \n",
    "\n",
    "from sklearn.metrics import confusion_matrix, classification_report  #to proceed with error analysis on our predictions\n",
    "\n",
    "\n",
    "import seaborn as sns                                                 #to visualize confusion matrices as a heatmap\n",
    "import matplotlib.pyplot as plt\n",
    "\n",
    "\n",
    "from tensorflow.keras.layers import LSTM, Dropout              #import long-short term memory neural net layers\n",
    "                                                               #and dropout regularization layers"
   ]
  },
  {
   "cell_type": "code",
   "execution_count": null,
   "id": "0a4faae7-d74e-4d58-a88f-82dcaaf5f318",
   "metadata": {},
   "outputs": [],
   "source": []
  },
  {
   "cell_type": "code",
   "execution_count": 3,
   "id": "0bb3cd93-191d-485d-beb0-be3c3e3f8373",
   "metadata": {},
   "outputs": [],
   "source": [
    "def  vectorize_string_csv_column_TF_idf(string_column):  \n",
    "                                                #create a function that receives a column of strings from a csv file \n",
    "                                                  #and converts each entry into a unique tfidf vector depending on the \n",
    "                                                  #unique vocabulary\n",
    "                                                   \n",
    "                                                 #necessary to convert a text input into a numeric vector to be used \n",
    "                                                 #as input to the classifier\n",
    "\n",
    "    \n",
    "    tfidf_vectorizer = TfidfVectorizer()  \n",
    "                                      #create a TF_idf_vectorizer model that will receive the entire csv column\n",
    "                                      #and will eventually turn each entry into a numeric vector\n",
    "                                      #the length of each vector will be the number of the unique words in the vocabulary\n",
    "                                      #if this length=N the resulting vectors for each entry will be of dimension (N,)\n",
    "    \n",
    "    tfidf_matrix = tfidf_vectorizer.fit_transform(string_column)  \n",
    "                                                    #apply the created model to the column title of the csv\n",
    "\n",
    "\n",
    "    tfidf_vectors = tfidf_matrix.toarray()          #each entry of the tfidf_vectors is a numeric vector\n",
    "                                                    #corresponding to a title entry\n",
    "                                                    #convert it to an array format for ease of handling\n",
    "\n",
    "    Vocabulary=tfidf_vectorizer.get_feature_names_out()  #export the unique vocabulary out of the created vectorizer model\n",
    "\n",
    "    return tfidf_vectors, Vocabulary   "
   ]
  },
  {
   "cell_type": "code",
   "execution_count": null,
   "id": "331cfc2e-51fa-4567-b682-2f457c7347e2",
   "metadata": {},
   "outputs": [],
   "source": []
  },
  {
   "cell_type": "code",
   "execution_count": 5,
   "id": "5e486934-6784-4bc6-aaec-89c551c0327b",
   "metadata": {},
   "outputs": [],
   "source": [
    "#create a function that finds all the unique labels in a column \n",
    "def find_unique_column_labels(column):\n",
    "     \n",
    "    unique_labels_list=[]               #create a list that will contain all the unique labels found in the input column\n",
    "\n",
    "    for i in column : #search the entire column\n",
    "        if i not in unique_labels_list:   #if the element i is not found in the unique list \n",
    "            unique_labels_list.append(i)  #append it to the list\n",
    "    \n",
    "    return  unique_labels_list "
   ]
  },
  {
   "cell_type": "code",
   "execution_count": null,
   "id": "61a2ffda-775a-4e93-81ea-7c56ac1703cd",
   "metadata": {},
   "outputs": [],
   "source": []
  },
  {
   "cell_type": "code",
   "execution_count": 7,
   "id": "5a54b92d-250b-4ed2-8e26-4b3d2168ee43",
   "metadata": {},
   "outputs": [],
   "source": [
    "def one_hot_encode_labels(unique_labels_of_a_column):\n",
    "    #create a dictionary for these categories that coresponds each one into a one hot numpy vector\n",
    "    #this is necessary in order to use a softmax classifier \n",
    "\n",
    "    number_of_classes=len(unique_labels_of_a_column)  #find the number of classes/possible labels from the vector that contains the unique labels\n",
    "\n",
    "                                               #create a numpy I matrix I lxl where l is the number of classes \n",
    "                                               #each row of the I matrix will correspond to a one hot encoding for each label\n",
    "    I=np.eye(number_of_classes)\n",
    "\n",
    "    #create a dictionary to correspond each class name with it's one hot encoded label\n",
    "\n",
    "    dict_labels={} #initialize an empty dictionary where the keys will be the labels and the values will be their one hot encoding\n",
    "\n",
    "\n",
    "    for i in range(number_of_classes):\n",
    "        dict_labels[unique_labels_of_a_column[i]]=I[i,:]\n",
    "\n",
    "    return dict_labels"
   ]
  },
  {
   "cell_type": "code",
   "execution_count": null,
   "id": "eb804f80-ec2b-4325-b1ed-5605ac269bf7",
   "metadata": {},
   "outputs": [],
   "source": []
  },
  {
   "cell_type": "code",
   "execution_count": 15,
   "id": "1668ce71-b623-4290-a484-9c74f21290b6",
   "metadata": {},
   "outputs": [],
   "source": [
    "def create_Y_label(initial_label_column,dict_labels):\n",
    "    #create the Y part of the dataset by receiving  a column  and the dict_labels corresponding to that column\n",
    "\n",
    "\n",
    "\n",
    "    #len(dict_labels['biological'])\n",
    "\n",
    "    Y1={}   #initialize an empty dictionary\n",
    "    count=0 #and a count variable\n",
    "    for i in initial_label_column:    #search through the hazard_category column of the data frame\n",
    "        for j in dict_labels.keys():  #and through all the keys of the labels dictionary with keys all the unique labels \n",
    "                                  #and values their one hot encoded representation\n",
    "            if i==j:                   #if you find a match\n",
    "                Y1[count]=dict_labels[j]   #assign the category with it's one hot encoding\n",
    "                count+=1\n",
    "    #Y\n",
    "    #now the dictionary above should be turned into a numpy matrix with its elements being column vectors\n",
    "\n",
    "    # Convert dictionary values to a numpy matrix\n",
    "    matrix = np.array([v for v in Y1.values()]).T\n",
    "\n",
    "    matrix.shape #Nxm format\n",
    "    return matrix    "
   ]
  },
  {
   "cell_type": "code",
   "execution_count": null,
   "id": "480e8791-8898-416a-8891-c1059baa2539",
   "metadata": {},
   "outputs": [],
   "source": []
  },
  {
   "cell_type": "code",
   "execution_count": 18,
   "id": "d59968bf-c544-4feb-a8b4-743f238769f4",
   "metadata": {},
   "outputs": [],
   "source": [
    "def compile_lstm(X_train,Y_train,X_test,Y_test,hu_1,hu_2,number_of_classes,a_epochs,a_batch_size):\n",
    "\n",
    "\n",
    "#in the following lstm neural net dropout regularization layers have been added added and l2 regularization is turned to 0\n",
    "    \n",
    "# LSTM Model architecture      Tx, and Ty are set by default by tensorflow\n",
    "    model = Sequential([  \n",
    "    # first LSTM layer the hidden units are frozen to 64 and instead of a tanh which is the most common actiovation function for an \n",
    "        #lstm a relu function is being applied\n",
    "        LSTM(64, activation='relu', return_sequences=True, input_shape=(1, X_train.shape[1]), kernel_regularizer=l2(0)),\n",
    "        Dropout(0.2),  # Add dropout for regularization\n",
    "\n",
    "    # second LSTM layer\n",
    "        #similar logic to the previous lstm layer but the number of hidden units remains frozen to 32\n",
    "        LSTM(32, activation='relu', kernel_regularizer=l2(0)),\n",
    "        Dropout(0.2),\n",
    "\n",
    "    # fully connected layer with hu_1 number of hidden units, no regularization and relu activation\n",
    "        Dense(hu_1, activation='relu', kernel_regularizer=l2(0)),\n",
    "\n",
    "    # output layer with softmax activation with hidden units equal to the number of classes\n",
    "        Dense(number_of_classes, activation='softmax', kernel_regularizer=l2(0))\n",
    "    ])\n",
    "\n",
    "\n",
    "\n",
    "    # Compile the model\n",
    "    model.compile(\n",
    "        optimizer=Adam(learning_rate=0.001),  # adam optimizer\n",
    "        loss=CategoricalCrossentropy(),       # categorical cross-entropy loss\n",
    "        metrics=['accuracy']                  \n",
    "    )\n",
    "\n",
    "    # Reshape the input data to be compatible with LSTM\n",
    "    X_train_new = X_train.reshape((X_train.shape[0],1, X_train.shape[1]))  # reshape to (samples, time_steps, features)\n",
    "    X_test_new = X_test.reshape((X_test.shape[0],1, X_test.shape[1]))      # reshape to (samples, time_steps, features)\n",
    "\n",
    "\n",
    "    #train the model to fit the training data\n",
    "    model.fit(\n",
    "        X_train_new, Y_train,  # training data\n",
    "        validation_data=(X_test_new, Y_test),  # validation data\n",
    "        epochs=a_epochs,   # number of epochs\n",
    "        batch_size=a_batch_size,  # batch size\n",
    "        verbose=1  \n",
    "    )\n",
    "\n",
    "    #model evaluation on the test data\n",
    "    test_loss, test_accuracy = model.evaluate(X_test_new, Y_test, verbose=1)\n",
    "\n",
    "    \n",
    "    print(\"Test Loss:\", test_loss)\n",
    "    print(\"Test Accuracy:\", test_accuracy)\n",
    "\n",
    "    return model"
   ]
  },
  {
   "cell_type": "code",
   "execution_count": null,
   "id": "238415f5-354d-42a9-b06e-4017f699df0c",
   "metadata": {},
   "outputs": [],
   "source": []
  },
  {
   "cell_type": "code",
   "execution_count": 42,
   "id": "79e6daa6-834d-41fd-bea1-fe783510afa8",
   "metadata": {},
   "outputs": [],
   "source": [
    "def lstm_create_heatmap_and_error_report(model,X_test,Y_test,num_of_classes):  #input the X_test \n",
    "                                                                    #and Y_test\n",
    "                                                                    #make predictions on X_test with the model\n",
    "                                                                    #compare the model predictions with \n",
    "                                                                    #the actual Y_test and create an error analysis\n",
    "\n",
    "    X_test_new=X_test.reshape((X_test.shape[0],1, X_test.shape[1])) #reshape X_test to make it compatible with lstm \n",
    "    \n",
    "    Y_predict_initial=model.predict(X_test_new) #we predict the model output for the X_test \n",
    "        #and we are going to compare with the actual lables from Y_test\n",
    "\n",
    "    #Each entry y in Y_predict_initial is a vector of  outputs= number of classes, containing the probabilities that show \n",
    "    #how likely it is for the model to assign an entry x of x_test to a specific class.\n",
    "    #For the entry x with prediction y if y[0] is the highest amongst the elements of y, x will be assigned to \n",
    "    #class 0. If y[1] is the highest then x will be assigned to class_1 and so on\n",
    "\n",
    "    #As a result, we need to find the index of  maximum element of each y in Y_predict \n",
    "    #that will show us in which class x corresponds to:\n",
    "    Y_intermediate = np.argmax(Y_predict_initial, axis=1) #find the index of the maximum element for each y in Y_predict_initial\n",
    "    \n",
    "    #we are also going to convert Y_test from a one hot encoding to \n",
    "    #the number of class this one hot encoding represents and compare it with \n",
    "    #the predicted class stored in Y_intermediate\n",
    "\n",
    "    Y_true = np.argmax(Y_test, axis=1)  #due to the fact that we have a one hot encoding, finding the index of the max \n",
    "                                    #element will lead directly to the number of class it represents\n",
    "\n",
    "    #\n",
    "    #we are going to find out where Y_true matches our prediction in Y_intermediate \n",
    "    #and we are going to display a confusion matrix of the true vs the prediction\n",
    "\n",
    "    \n",
    "    conf_mat=confusion_matrix(Y_true,Y_intermediate)\n",
    "    \n",
    "\n",
    "    sns.heatmap(conf_mat,annot=True, fmt='d', cmap='Blues')\n",
    "    plt.xlabel('Predicted Class')\n",
    "    plt.ylabel('True Class')\n",
    "    plt.title('Confusion Matrix')\n",
    "    plt.show()\n",
    "\n",
    "     #the classification report is applied to the test set which is a random split from the entire training set\n",
    "    #as a result it may not include the entire number of classes and we will get the error report based on the \n",
    "    #classes stored in the confusion matrix and the test set\n",
    "    \n",
    "    report = classification_report(Y_true, Y_intermediate, target_names=[f\"Class {i}\" for i in range(conf_mat.shape[0])]) \n",
    "    print(\"\\n\",report)\n",
    "\n",
    "    return 1"
   ]
  },
  {
   "cell_type": "code",
   "execution_count": null,
   "id": "d6387159-557b-4281-a189-6aec96dccca9",
   "metadata": {},
   "outputs": [],
   "source": []
  },
  {
   "cell_type": "code",
   "execution_count": 24,
   "id": "f61d2dda-cace-484d-a524-cf11795f71de",
   "metadata": {},
   "outputs": [],
   "source": [
    "#make a function that inputs data X\n",
    "#the model that makes predictions and the \n",
    "#dictionary with the labels and their one hot encoding. \n",
    "#It computes the numeric predictions for X and turns them into the text of the label \n",
    "#they correspond to\n",
    "\n",
    "def lstm_from_pred_and_dictionary_to_labels(X,model,one_hot_dictionary):\n",
    "    \n",
    "        #predicted output\n",
    "    X_new=X.reshape((X.shape[0],1, X.shape[1]))\n",
    "    \n",
    "    Y_pr=model.predict(X_new)\n",
    "\n",
    "        #create a new dictionary with the key being the index/label of the one_hot_dictionary\n",
    "        #and the value of this new  dictionary being the phrase of the one hot encoding \n",
    "\n",
    "    new_dict={}\n",
    "\n",
    "    for key,value in one_hot_dictionary.items():   \n",
    "        convert_one_hot_encode_to_number=np.argmax(value)    #get the number representation of the one hot encoding\n",
    "        label=key                                            #get the phrase of the one hot encoding \n",
    "        new_dict[convert_one_hot_encode_to_number]=label     #store them as number-> phrase\n",
    "\n",
    "    #use the newly created dictionary to map the predictions into the labels\n",
    "    predictions_text_format=[]\n",
    "\n",
    "    for i in Y_pr:\n",
    "        chosen_label=np.argmax(i) #loop through the predictions of the model and choose to which label the prediction is assigned\n",
    "        predictions_text_format.append(new_dict[chosen_label]) #get the phrase corresponding to that label and append it to a list\n",
    "        \n",
    "    return predictions_text_format"
   ]
  },
  {
   "cell_type": "code",
   "execution_count": null,
   "id": "a52433e5-4516-431d-88ab-a90a06ec1d25",
   "metadata": {},
   "outputs": [],
   "source": []
  },
  {
   "cell_type": "code",
   "execution_count": 27,
   "id": "1251e740-2401-4e8b-8693-b69e001af590",
   "metadata": {},
   "outputs": [],
   "source": [
    "#load the csv incidents_train into a data frame\n",
    "\n",
    "df=pd.read_csv('incidents_train.csv')\n",
    "#df.head()\n",
    "\n",
    "#isolate the title category which is to be used as the input X to a classifier\n",
    "title=df['title']"
   ]
  },
  {
   "cell_type": "code",
   "execution_count": null,
   "id": "39059561-f04d-4efd-beae-86a90b1473bc",
   "metadata": {},
   "outputs": [],
   "source": []
  },
  {
   "cell_type": "code",
   "execution_count": 30,
   "id": "54e4f6e5-6984-4b00-a1e1-acbbb979e9f8",
   "metadata": {},
   "outputs": [],
   "source": [
    "X,unique_title_voc=vectorize_string_csv_column_TF_idf(title)\n",
    "#X.shape"
   ]
  },
  {
   "cell_type": "code",
   "execution_count": null,
   "id": "8b06e66f-81ed-4d02-84f3-17fc3b86e694",
   "metadata": {},
   "outputs": [],
   "source": []
  },
  {
   "cell_type": "code",
   "execution_count": 33,
   "id": "68d977dc-dacc-42d9-b127-aca1e4ff49d2",
   "metadata": {},
   "outputs": [
    {
     "data": {
      "text/plain": [
       "(5082, 10)"
      ]
     },
     "execution_count": 33,
     "metadata": {},
     "output_type": "execute_result"
    }
   ],
   "source": [
    "hazard_category=df['hazard-category']\n",
    "unique_hazard_category_labels=find_unique_column_labels(hazard_category)\n",
    "\n",
    "one_hot_encode_hazard_category=one_hot_encode_labels(unique_hazard_category_labels)\n",
    "#one_hot_encode_hazard_category\n",
    "\n",
    "Y_hazard_category_transposed=create_Y_label(hazard_category,one_hot_encode_hazard_category)\n",
    "\n",
    "Y_hazard_category=Y_hazard_category_transposed.T\n",
    "Y_hazard_category.shape"
   ]
  },
  {
   "cell_type": "code",
   "execution_count": null,
   "id": "5ec21ab4-32ce-4166-9a20-adafc8731275",
   "metadata": {},
   "outputs": [],
   "source": []
  },
  {
   "cell_type": "code",
   "execution_count": 36,
   "id": "bbdae573-3833-4a04-bde7-2a76789b00f7",
   "metadata": {},
   "outputs": [],
   "source": [
    "#split the data intro train and test set\n",
    "#using the processed title data as X\n",
    "#and hazard category as Y\n",
    "X_train, X_test, Y_hazard_category_train, Y_hazard_category_test = train_test_split(X, Y_hazard_category, test_size=0.2, random_state=42)"
   ]
  },
  {
   "cell_type": "code",
   "execution_count": 38,
   "id": "37f1ec5f-8333-4f97-a6f1-f2c099159f7a",
   "metadata": {},
   "outputs": [
    {
     "name": "stderr",
     "output_type": "stream",
     "text": [
      "C:\\Users\\USER\\anaconda3\\Lib\\site-packages\\keras\\src\\layers\\rnn\\rnn.py:204: UserWarning: Do not pass an `input_shape`/`input_dim` argument to a layer. When using Sequential models, prefer using an `Input(shape)` object as the first layer in the model instead.\n",
      "  super().__init__(**kwargs)\n"
     ]
    },
    {
     "name": "stdout",
     "output_type": "stream",
     "text": [
      "Epoch 1/30\n",
      "\u001b[1m128/128\u001b[0m \u001b[32m━━━━━━━━━━━━━━━━━━━━\u001b[0m\u001b[37m\u001b[0m \u001b[1m8s\u001b[0m 29ms/step - accuracy: 0.3438 - loss: 2.1047 - val_accuracy: 0.4297 - val_loss: 1.4686\n",
      "Epoch 2/30\n",
      "\u001b[1m128/128\u001b[0m \u001b[32m━━━━━━━━━━━━━━━━━━━━\u001b[0m\u001b[37m\u001b[0m \u001b[1m3s\u001b[0m 25ms/step - accuracy: 0.4962 - loss: 1.3310 - val_accuracy: 0.6431 - val_loss: 0.9718\n",
      "Epoch 3/30\n",
      "\u001b[1m128/128\u001b[0m \u001b[32m━━━━━━━━━━━━━━━━━━━━\u001b[0m\u001b[37m\u001b[0m \u001b[1m3s\u001b[0m 25ms/step - accuracy: 0.7142 - loss: 0.7834 - val_accuracy: 0.7483 - val_loss: 0.7996\n",
      "Epoch 4/30\n",
      "\u001b[1m128/128\u001b[0m \u001b[32m━━━━━━━━━━━━━━━━━━━━\u001b[0m\u001b[37m\u001b[0m \u001b[1m3s\u001b[0m 25ms/step - accuracy: 0.8240 - loss: 0.5317 - val_accuracy: 0.7571 - val_loss: 0.7749\n",
      "Epoch 5/30\n",
      "\u001b[1m128/128\u001b[0m \u001b[32m━━━━━━━━━━━━━━━━━━━━\u001b[0m\u001b[37m\u001b[0m \u001b[1m3s\u001b[0m 25ms/step - accuracy: 0.8641 - loss: 0.4007 - val_accuracy: 0.7847 - val_loss: 0.7686\n",
      "Epoch 6/30\n",
      "\u001b[1m128/128\u001b[0m \u001b[32m━━━━━━━━━━━━━━━━━━━━\u001b[0m\u001b[37m\u001b[0m \u001b[1m3s\u001b[0m 26ms/step - accuracy: 0.8954 - loss: 0.3128 - val_accuracy: 0.7915 - val_loss: 0.8434\n",
      "Epoch 7/30\n",
      "\u001b[1m128/128\u001b[0m \u001b[32m━━━━━━━━━━━━━━━━━━━━\u001b[0m\u001b[37m\u001b[0m \u001b[1m3s\u001b[0m 25ms/step - accuracy: 0.9255 - loss: 0.2446 - val_accuracy: 0.7807 - val_loss: 0.8754\n",
      "Epoch 8/30\n",
      "\u001b[1m128/128\u001b[0m \u001b[32m━━━━━━━━━━━━━━━━━━━━\u001b[0m\u001b[37m\u001b[0m \u001b[1m3s\u001b[0m 26ms/step - accuracy: 0.9300 - loss: 0.2115 - val_accuracy: 0.7896 - val_loss: 0.9727\n",
      "Epoch 9/30\n",
      "\u001b[1m128/128\u001b[0m \u001b[32m━━━━━━━━━━━━━━━━━━━━\u001b[0m\u001b[37m\u001b[0m \u001b[1m3s\u001b[0m 26ms/step - accuracy: 0.9317 - loss: 0.1847 - val_accuracy: 0.7768 - val_loss: 1.0794\n",
      "Epoch 10/30\n",
      "\u001b[1m128/128\u001b[0m \u001b[32m━━━━━━━━━━━━━━━━━━━━\u001b[0m\u001b[37m\u001b[0m \u001b[1m3s\u001b[0m 26ms/step - accuracy: 0.9414 - loss: 0.1561 - val_accuracy: 0.7886 - val_loss: 1.1318\n",
      "Epoch 11/30\n",
      "\u001b[1m128/128\u001b[0m \u001b[32m━━━━━━━━━━━━━━━━━━━━\u001b[0m\u001b[37m\u001b[0m \u001b[1m3s\u001b[0m 27ms/step - accuracy: 0.9436 - loss: 0.1385 - val_accuracy: 0.7906 - val_loss: 1.2167\n",
      "Epoch 12/30\n",
      "\u001b[1m128/128\u001b[0m \u001b[32m━━━━━━━━━━━━━━━━━━━━\u001b[0m\u001b[37m\u001b[0m \u001b[1m3s\u001b[0m 27ms/step - accuracy: 0.9485 - loss: 0.1255 - val_accuracy: 0.7876 - val_loss: 1.2808\n",
      "Epoch 13/30\n",
      "\u001b[1m128/128\u001b[0m \u001b[32m━━━━━━━━━━━━━━━━━━━━\u001b[0m\u001b[37m\u001b[0m \u001b[1m3s\u001b[0m 27ms/step - accuracy: 0.9571 - loss: 0.1173 - val_accuracy: 0.7856 - val_loss: 1.2875\n",
      "Epoch 14/30\n",
      "\u001b[1m128/128\u001b[0m \u001b[32m━━━━━━━━━━━━━━━━━━━━\u001b[0m\u001b[37m\u001b[0m \u001b[1m3s\u001b[0m 26ms/step - accuracy: 0.9612 - loss: 0.1061 - val_accuracy: 0.7699 - val_loss: 1.3776\n",
      "Epoch 15/30\n",
      "\u001b[1m128/128\u001b[0m \u001b[32m━━━━━━━━━━━━━━━━━━━━\u001b[0m\u001b[37m\u001b[0m \u001b[1m4s\u001b[0m 27ms/step - accuracy: 0.9704 - loss: 0.0829 - val_accuracy: 0.7768 - val_loss: 1.4508\n",
      "Epoch 16/30\n",
      "\u001b[1m128/128\u001b[0m \u001b[32m━━━━━━━━━━━━━━━━━━━━\u001b[0m\u001b[37m\u001b[0m \u001b[1m4s\u001b[0m 28ms/step - accuracy: 0.9708 - loss: 0.0790 - val_accuracy: 0.7807 - val_loss: 1.5168\n",
      "Epoch 17/30\n",
      "\u001b[1m128/128\u001b[0m \u001b[32m━━━━━━━━━━━━━━━━━━━━\u001b[0m\u001b[37m\u001b[0m \u001b[1m3s\u001b[0m 26ms/step - accuracy: 0.9688 - loss: 0.0813 - val_accuracy: 0.7758 - val_loss: 1.5920\n",
      "Epoch 18/30\n",
      "\u001b[1m128/128\u001b[0m \u001b[32m━━━━━━━━━━━━━━━━━━━━\u001b[0m\u001b[37m\u001b[0m \u001b[1m4s\u001b[0m 27ms/step - accuracy: 0.9749 - loss: 0.0711 - val_accuracy: 0.7866 - val_loss: 1.7093\n",
      "Epoch 19/30\n",
      "\u001b[1m128/128\u001b[0m \u001b[32m━━━━━━━━━━━━━━━━━━━━\u001b[0m\u001b[37m\u001b[0m \u001b[1m3s\u001b[0m 26ms/step - accuracy: 0.9815 - loss: 0.0589 - val_accuracy: 0.7778 - val_loss: 1.7571\n",
      "Epoch 20/30\n",
      "\u001b[1m128/128\u001b[0m \u001b[32m━━━━━━━━━━━━━━━━━━━━\u001b[0m\u001b[37m\u001b[0m \u001b[1m3s\u001b[0m 26ms/step - accuracy: 0.9812 - loss: 0.0574 - val_accuracy: 0.7768 - val_loss: 1.8312\n",
      "Epoch 21/30\n",
      "\u001b[1m128/128\u001b[0m \u001b[32m━━━━━━━━━━━━━━━━━━━━\u001b[0m\u001b[37m\u001b[0m \u001b[1m3s\u001b[0m 27ms/step - accuracy: 0.9918 - loss: 0.0426 - val_accuracy: 0.7719 - val_loss: 1.8763\n",
      "Epoch 22/30\n",
      "\u001b[1m128/128\u001b[0m \u001b[32m━━━━━━━━━━━━━━━━━━━━\u001b[0m\u001b[37m\u001b[0m \u001b[1m3s\u001b[0m 26ms/step - accuracy: 0.9878 - loss: 0.0394 - val_accuracy: 0.7817 - val_loss: 1.9524\n",
      "Epoch 23/30\n",
      "\u001b[1m128/128\u001b[0m \u001b[32m━━━━━━━━━━━━━━━━━━━━\u001b[0m\u001b[37m\u001b[0m \u001b[1m3s\u001b[0m 26ms/step - accuracy: 0.9921 - loss: 0.0340 - val_accuracy: 0.7847 - val_loss: 2.0021\n",
      "Epoch 24/30\n",
      "\u001b[1m128/128\u001b[0m \u001b[32m━━━━━━━━━━━━━━━━━━━━\u001b[0m\u001b[37m\u001b[0m \u001b[1m3s\u001b[0m 27ms/step - accuracy: 0.9929 - loss: 0.0287 - val_accuracy: 0.7807 - val_loss: 2.0728\n",
      "Epoch 25/30\n",
      "\u001b[1m128/128\u001b[0m \u001b[32m━━━━━━━━━━━━━━━━━━━━\u001b[0m\u001b[37m\u001b[0m \u001b[1m3s\u001b[0m 27ms/step - accuracy: 0.9931 - loss: 0.0238 - val_accuracy: 0.7699 - val_loss: 2.0791\n",
      "Epoch 26/30\n",
      "\u001b[1m128/128\u001b[0m \u001b[32m━━━━━━━━━━━━━━━━━━━━\u001b[0m\u001b[37m\u001b[0m \u001b[1m3s\u001b[0m 26ms/step - accuracy: 0.9939 - loss: 0.0274 - val_accuracy: 0.7719 - val_loss: 2.1865\n",
      "Epoch 27/30\n",
      "\u001b[1m128/128\u001b[0m \u001b[32m━━━━━━━━━━━━━━━━━━━━\u001b[0m\u001b[37m\u001b[0m \u001b[1m4s\u001b[0m 27ms/step - accuracy: 0.9889 - loss: 0.0341 - val_accuracy: 0.7788 - val_loss: 2.1282\n",
      "Epoch 28/30\n",
      "\u001b[1m128/128\u001b[0m \u001b[32m━━━━━━━━━━━━━━━━━━━━\u001b[0m\u001b[37m\u001b[0m \u001b[1m3s\u001b[0m 26ms/step - accuracy: 0.9945 - loss: 0.0191 - val_accuracy: 0.7709 - val_loss: 2.2030\n",
      "Epoch 29/30\n",
      "\u001b[1m128/128\u001b[0m \u001b[32m━━━━━━━━━━━━━━━━━━━━\u001b[0m\u001b[37m\u001b[0m \u001b[1m4s\u001b[0m 27ms/step - accuracy: 0.9948 - loss: 0.0223 - val_accuracy: 0.7768 - val_loss: 2.3039\n",
      "Epoch 30/30\n",
      "\u001b[1m128/128\u001b[0m \u001b[32m━━━━━━━━━━━━━━━━━━━━\u001b[0m\u001b[37m\u001b[0m \u001b[1m3s\u001b[0m 26ms/step - accuracy: 0.9968 - loss: 0.0189 - val_accuracy: 0.7876 - val_loss: 2.2191\n",
      "\u001b[1m32/32\u001b[0m \u001b[32m━━━━━━━━━━━━━━━━━━━━\u001b[0m\u001b[37m\u001b[0m \u001b[1m0s\u001b[0m 4ms/step - accuracy: 0.7804 - loss: 2.3474\n",
      "Test Loss: 2.2191195487976074\n",
      "Test Accuracy: 0.7876105904579163\n"
     ]
    }
   ],
   "source": [
    "model_3=compile_lstm(X_train,Y_hazard_category_train,X_test,Y_hazard_category_test,64,32,10,30,32)"
   ]
  },
  {
   "cell_type": "code",
   "execution_count": 44,
   "id": "0b206d91-1c92-4af3-816e-e7fbb3089036",
   "metadata": {},
   "outputs": [
    {
     "name": "stdout",
     "output_type": "stream",
     "text": [
      "\u001b[1m32/32\u001b[0m \u001b[32m━━━━━━━━━━━━━━━━━━━━\u001b[0m\u001b[37m\u001b[0m \u001b[1m0s\u001b[0m 4ms/step\n"
     ]
    },
    {
     "data": {
      "image/png": "[encoded data removed]",
      "text/plain": [
       "<Figure size 640x480 with 2 Axes>"
      ]
     },
     "metadata": {},
     "output_type": "display_data"
    },
    {
     "name": "stdout",
     "output_type": "stream",
     "text": [
      "\n",
      "               precision    recall  f1-score   support\n",
      "\n",
      "     Class 0       0.86      0.89      0.88       339\n",
      "     Class 1       0.68      0.76      0.71       111\n",
      "     Class 2       0.82      0.53      0.64        68\n",
      "     Class 3       0.49      0.53      0.51        68\n",
      "     Class 4       0.40      0.20      0.27        10\n",
      "     Class 5       0.86      0.88      0.87       377\n",
      "     Class 6       0.08      0.09      0.08        11\n",
      "     Class 7       0.41      0.33      0.37        27\n",
      "     Class 8       0.00      0.00      0.00         5\n",
      "     Class 9       0.00      0.00      0.00         1\n",
      "\n",
      "    accuracy                           0.79      1017\n",
      "   macro avg       0.46      0.42      0.43      1017\n",
      "weighted avg       0.78      0.79      0.78      1017\n",
      "\n"
     ]
    },
    {
     "name": "stderr",
     "output_type": "stream",
     "text": [
      "C:\\Users\\USER\\anaconda3\\Lib\\site-packages\\sklearn\\metrics\\_classification.py:1531: UndefinedMetricWarning: Precision is ill-defined and being set to 0.0 in labels with no predicted samples. Use `zero_division` parameter to control this behavior.\n",
      "  _warn_prf(average, modifier, f\"{metric.capitalize()} is\", len(result))\n",
      "C:\\Users\\USER\\anaconda3\\Lib\\site-packages\\sklearn\\metrics\\_classification.py:1531: UndefinedMetricWarning: Precision is ill-defined and being set to 0.0 in labels with no predicted samples. Use `zero_division` parameter to control this behavior.\n",
      "  _warn_prf(average, modifier, f\"{metric.capitalize()} is\", len(result))\n",
      "C:\\Users\\USER\\anaconda3\\Lib\\site-packages\\sklearn\\metrics\\_classification.py:1531: UndefinedMetricWarning: Precision is ill-defined and being set to 0.0 in labels with no predicted samples. Use `zero_division` parameter to control this behavior.\n",
      "  _warn_prf(average, modifier, f\"{metric.capitalize()} is\", len(result))\n"
     ]
    },
    {
     "data": {
      "text/plain": [
       "1"
      ]
     },
     "execution_count": 44,
     "metadata": {},
     "output_type": "execute_result"
    }
   ],
   "source": [
    "lstm_create_heatmap_and_error_report(model_3,X_test,Y_hazard_category_test,10)"
   ]
  },
  {
   "cell_type": "code",
   "execution_count": null,
   "id": "7fa24be5-09c7-42b9-a00d-9cf349190dae",
   "metadata": {},
   "outputs": [],
   "source": []
  },
  {
   "cell_type": "code",
   "execution_count": 47,
   "id": "4204f9e7-c23d-4b95-b77e-e53a599c9be4",
   "metadata": {},
   "outputs": [],
   "source": [
    "#read the validation_file for hazard category and create a prediction vector\n",
    "\n",
    "#load the csv incidents_val into a data frame\n",
    "\n",
    "df_validation=pd.read_csv('incidents_val.csv')\n",
    "#df.head()\n",
    "\n",
    "#isolate the title category which is to be used as the input X to a classifier\n",
    "title_validation=df_validation['title']"
   ]
  },
  {
   "cell_type": "code",
   "execution_count": null,
   "id": "767abb8b-43de-4e47-bcdf-eee1884f812e",
   "metadata": {},
   "outputs": [],
   "source": []
  },
  {
   "cell_type": "code",
   "execution_count": 50,
   "id": "a38b3884-afa4-4f67-955e-8915193aeeda",
   "metadata": {},
   "outputs": [
    {
     "data": {
      "text/plain": [
       "(565, 7372)"
      ]
     },
     "execution_count": 50,
     "metadata": {},
     "output_type": "execute_result"
    }
   ],
   "source": [
    "#follow the same steps as before to vectorize the title_validation \n",
    "#into a form that can be loaded into the trained model\n",
    "\n",
    "#to avoid having different number of features for the train set and the validation set with the tfidf vectorizer we are \n",
    "#going to use the tfidf vectorizer fitted for the train set to the validation set \n",
    "#the function we created previously will not suffise because it will create a unique representation based on the validation set \n",
    "#with number of features different than the ones in the training set\n",
    "\n",
    "tfidf_vectorizer = TfidfVectorizer()  #create a tfidfvectorizer object\n",
    "\n",
    "\n",
    "tfidf_vectorizer.fit(title)        #fit it for the title of the training set \n",
    "                                                   \n",
    "X_center=tfidf_vectorizer.transform(title)      #transform the title of the training set into a format where each entry is a \n",
    "                                                #numeric vector of shape (m,n) where m \n",
    "                                                #is the number of examples in the given set and n is the number of features\n",
    "\n",
    "X_center_format=X_center.toarray()             #follow this conversion to get an array form\n",
    "                                               #\n",
    "\n",
    "\n",
    "X_val_0=tfidf_vectorizer.transform(title_validation)   #use the vectorizer that is fitted to the training set to transform the input \n",
    "                                                       #from the validation set. the result will be a numeric vector of shape (m_val,n)\n",
    "                                                       #where m_val is the number of entries in the validation set and \n",
    "                                                       #n is the number of features which is the same as the number of features \n",
    "                                                       # used for training\n",
    "\n",
    "X_val_1=X_val_0.toarray()\n",
    "\n",
    "X_val_1.shape"
   ]
  },
  {
   "cell_type": "code",
   "execution_count": null,
   "id": "ec2568df-f97a-42ab-bdeb-b8de25f5a5cd",
   "metadata": {},
   "outputs": [],
   "source": []
  },
  {
   "cell_type": "code",
   "execution_count": 53,
   "id": "4e3137eb-d73e-49dd-af66-88a3dee48eaa",
   "metadata": {},
   "outputs": [
    {
     "name": "stdout",
     "output_type": "stream",
     "text": [
      "\u001b[1m18/18\u001b[0m \u001b[32m━━━━━━━━━━━━━━━━━━━━\u001b[0m\u001b[37m\u001b[0m \u001b[1m0s\u001b[0m 4ms/step\n"
     ]
    }
   ],
   "source": [
    "#predictions in text format from the trained dense model named model\n",
    "\n",
    "HZ_val_prediction=lstm_from_pred_and_dictionary_to_labels(X_val_1,model_3,one_hot_encode_hazard_category)  #use the aforementioned function\n",
    "                                                       #to predict the Hazard category labels for the validation set using the \n",
    "                                                       #validation title. This function also receives as input the dictionary with \n",
    "                                                       #the labels and their one hot encoding in order to convert the predictions back to text"
   ]
  },
  {
   "cell_type": "code",
   "execution_count": 55,
   "id": "df08b88f-474a-4907-bbe4-627d1af94a97",
   "metadata": {},
   "outputs": [],
   "source": [
    "#HZ_val_prediction"
   ]
  },
  {
   "cell_type": "code",
   "execution_count": null,
   "id": "36ffbb38-0db8-41bb-aedc-78f436e328ac",
   "metadata": {},
   "outputs": [],
   "source": []
  },
  {
   "cell_type": "code",
   "execution_count": 58,
   "id": "1e316a9a-4639-46d5-8e57-72db7fb71a63",
   "metadata": {},
   "outputs": [],
   "source": [
    "#now we are going to follow the exact same procedure and train a seperate model to predict \n",
    "#the product category first for the training set and then for the validation set\n"
   ]
  },
  {
   "cell_type": "code",
   "execution_count": 60,
   "id": "47b98043-d2f2-433a-8c29-bad242813780",
   "metadata": {},
   "outputs": [
    {
     "data": {
      "text/plain": [
       "(5082, 22)"
      ]
     },
     "execution_count": 60,
     "metadata": {},
     "output_type": "execute_result"
    }
   ],
   "source": [
    "product_category=df['product-category'] #get the product category for the data frame refering to the training set\n",
    "unique_product_category_labels=find_unique_column_labels(product_category) #find the unique labels of product category\n",
    "\n",
    "one_hot_encode_product_category=one_hot_encode_labels(unique_product_category_labels) #one hot encode these labels and get a \n",
    "#dictionary with the key being the label and the value being its one hot encoding\n",
    "\n",
    "\n",
    "Y_product_category_transposed=create_Y_label(product_category,one_hot_encode_product_category)\n",
    "#create the Y part of the data set\n",
    "\n",
    "Y_product_category=Y_product_category_transposed.T\n",
    "Y_product_category.shape"
   ]
  },
  {
   "cell_type": "code",
   "execution_count": null,
   "id": "de295380-69ba-4651-a779-3120bc85537d",
   "metadata": {},
   "outputs": [],
   "source": []
  },
  {
   "cell_type": "code",
   "execution_count": 65,
   "id": "c2f0e538-a1b3-4e2e-a30a-2c0fef032c83",
   "metadata": {},
   "outputs": [],
   "source": [
    "#split the data intro train and test set\n",
    "#using the processed title data as X\n",
    "#and product category as Y\n",
    "X_train, X_test, Y_product_category_train, Y_product_category_test = train_test_split(X, Y_product_category, test_size=0.2, random_state=42)"
   ]
  },
  {
   "cell_type": "code",
   "execution_count": null,
   "id": "9af54a9b-0fe0-4f52-9c38-eeb49c416908",
   "metadata": {},
   "outputs": [],
   "source": []
  },
  {
   "cell_type": "code",
   "execution_count": 68,
   "id": "47746f9d-847c-4bf8-8036-42f66c7f0cb8",
   "metadata": {},
   "outputs": [
    {
     "name": "stderr",
     "output_type": "stream",
     "text": [
      "C:\\Users\\USER\\anaconda3\\Lib\\site-packages\\keras\\src\\layers\\rnn\\rnn.py:204: UserWarning: Do not pass an `input_shape`/`input_dim` argument to a layer. When using Sequential models, prefer using an `Input(shape)` object as the first layer in the model instead.\n",
      "  super().__init__(**kwargs)\n"
     ]
    },
    {
     "name": "stdout",
     "output_type": "stream",
     "text": [
      "Epoch 1/30\n",
      "\u001b[1m128/128\u001b[0m \u001b[32m━━━━━━━━━━━━━━━━━━━━\u001b[0m\u001b[37m\u001b[0m \u001b[1m7s\u001b[0m 29ms/step - accuracy: 0.2679 - loss: 2.9472 - val_accuracy: 0.2773 - val_loss: 2.3044\n",
      "Epoch 2/30\n",
      "\u001b[1m128/128\u001b[0m \u001b[32m━━━━━━━━━━━━━━━━━━━━\u001b[0m\u001b[37m\u001b[0m \u001b[1m3s\u001b[0m 26ms/step - accuracy: 0.2884 - loss: 2.1952 - val_accuracy: 0.2793 - val_loss: 2.1212\n",
      "Epoch 3/30\n",
      "\u001b[1m128/128\u001b[0m \u001b[32m━━━━━━━━━━━━━━━━━━━━\u001b[0m\u001b[37m\u001b[0m \u001b[1m3s\u001b[0m 25ms/step - accuracy: 0.3092 - loss: 1.9848 - val_accuracy: 0.3412 - val_loss: 1.9737\n",
      "Epoch 4/30\n",
      "\u001b[1m128/128\u001b[0m \u001b[32m━━━━━━━━━━━━━━━━━━━━\u001b[0m\u001b[37m\u001b[0m \u001b[1m3s\u001b[0m 26ms/step - accuracy: 0.4375 - loss: 1.6567 - val_accuracy: 0.4798 - val_loss: 1.7740\n",
      "Epoch 5/30\n",
      "\u001b[1m128/128\u001b[0m \u001b[32m━━━━━━━━━━━━━━━━━━━━\u001b[0m\u001b[37m\u001b[0m \u001b[1m3s\u001b[0m 26ms/step - accuracy: 0.5490 - loss: 1.3626 - val_accuracy: 0.5211 - val_loss: 1.6115\n",
      "Epoch 6/30\n",
      "\u001b[1m128/128\u001b[0m \u001b[32m━━━━━━━━━━━━━━━━━━━━\u001b[0m\u001b[37m\u001b[0m \u001b[1m3s\u001b[0m 25ms/step - accuracy: 0.6429 - loss: 1.1152 - val_accuracy: 0.5870 - val_loss: 1.6040\n",
      "Epoch 7/30\n",
      "\u001b[1m128/128\u001b[0m \u001b[32m━━━━━━━━━━━━━━━━━━━━\u001b[0m\u001b[37m\u001b[0m \u001b[1m3s\u001b[0m 27ms/step - accuracy: 0.7304 - loss: 0.8498 - val_accuracy: 0.6077 - val_loss: 1.6018\n",
      "Epoch 8/30\n",
      "\u001b[1m128/128\u001b[0m \u001b[32m━━━━━━━━━━━━━━━━━━━━\u001b[0m\u001b[37m\u001b[0m \u001b[1m3s\u001b[0m 25ms/step - accuracy: 0.7902 - loss: 0.6699 - val_accuracy: 0.6028 - val_loss: 1.6775\n",
      "Epoch 9/30\n",
      "\u001b[1m128/128\u001b[0m \u001b[32m━━━━━━━━━━━━━━━━━━━━\u001b[0m\u001b[37m\u001b[0m \u001b[1m3s\u001b[0m 26ms/step - accuracy: 0.8283 - loss: 0.5735 - val_accuracy: 0.6146 - val_loss: 1.7625\n",
      "Epoch 10/30\n",
      "\u001b[1m128/128\u001b[0m \u001b[32m━━━━━━━━━━━━━━━━━━━━\u001b[0m\u001b[37m\u001b[0m \u001b[1m4s\u001b[0m 27ms/step - accuracy: 0.8510 - loss: 0.4767 - val_accuracy: 0.6116 - val_loss: 1.8761\n",
      "Epoch 11/30\n",
      "\u001b[1m128/128\u001b[0m \u001b[32m━━━━━━━━━━━━━━━━━━━━\u001b[0m\u001b[37m\u001b[0m \u001b[1m3s\u001b[0m 26ms/step - accuracy: 0.8849 - loss: 0.3951 - val_accuracy: 0.6096 - val_loss: 1.9000\n",
      "Epoch 12/30\n",
      "\u001b[1m128/128\u001b[0m \u001b[32m━━━━━━━━━━━━━━━━━━━━\u001b[0m\u001b[37m\u001b[0m \u001b[1m4s\u001b[0m 27ms/step - accuracy: 0.8868 - loss: 0.3629 - val_accuracy: 0.6214 - val_loss: 2.0394\n",
      "Epoch 13/30\n",
      "\u001b[1m128/128\u001b[0m \u001b[32m━━━━━━━━━━━━━━━━━━━━\u001b[0m\u001b[37m\u001b[0m \u001b[1m3s\u001b[0m 26ms/step - accuracy: 0.9156 - loss: 0.2950 - val_accuracy: 0.6185 - val_loss: 2.1202\n",
      "Epoch 14/30\n",
      "\u001b[1m128/128\u001b[0m \u001b[32m━━━━━━━━━━━━━━━━━━━━\u001b[0m\u001b[37m\u001b[0m \u001b[1m4s\u001b[0m 27ms/step - accuracy: 0.9115 - loss: 0.2749 - val_accuracy: 0.6214 - val_loss: 2.2643\n",
      "Epoch 15/30\n",
      "\u001b[1m128/128\u001b[0m \u001b[32m━━━━━━━━━━━━━━━━━━━━\u001b[0m\u001b[37m\u001b[0m \u001b[1m3s\u001b[0m 27ms/step - accuracy: 0.9129 - loss: 0.2624 - val_accuracy: 0.6165 - val_loss: 2.4254\n",
      "Epoch 16/30\n",
      "\u001b[1m128/128\u001b[0m \u001b[32m━━━━━━━━━━━━━━━━━━━━\u001b[0m\u001b[37m\u001b[0m \u001b[1m4s\u001b[0m 27ms/step - accuracy: 0.9390 - loss: 0.2037 - val_accuracy: 0.6195 - val_loss: 2.4706\n",
      "Epoch 17/30\n",
      "\u001b[1m128/128\u001b[0m \u001b[32m━━━━━━━━━━━━━━━━━━━━\u001b[0m\u001b[37m\u001b[0m \u001b[1m3s\u001b[0m 26ms/step - accuracy: 0.9502 - loss: 0.1987 - val_accuracy: 0.6116 - val_loss: 2.7020\n",
      "Epoch 18/30\n",
      "\u001b[1m128/128\u001b[0m \u001b[32m━━━━━━━━━━━━━━━━━━━━\u001b[0m\u001b[37m\u001b[0m \u001b[1m4s\u001b[0m 27ms/step - accuracy: 0.9458 - loss: 0.1892 - val_accuracy: 0.6146 - val_loss: 2.6431\n",
      "Epoch 19/30\n",
      "\u001b[1m128/128\u001b[0m \u001b[32m━━━━━━━━━━━━━━━━━━━━\u001b[0m\u001b[37m\u001b[0m \u001b[1m4s\u001b[0m 28ms/step - accuracy: 0.9578 - loss: 0.1506 - val_accuracy: 0.6254 - val_loss: 2.8383\n",
      "Epoch 20/30\n",
      "\u001b[1m128/128\u001b[0m \u001b[32m━━━━━━━━━━━━━━━━━━━━\u001b[0m\u001b[37m\u001b[0m \u001b[1m3s\u001b[0m 26ms/step - accuracy: 0.9690 - loss: 0.1188 - val_accuracy: 0.6096 - val_loss: 2.8409\n",
      "Epoch 21/30\n",
      "\u001b[1m128/128\u001b[0m \u001b[32m━━━━━━━━━━━━━━━━━━━━\u001b[0m\u001b[37m\u001b[0m \u001b[1m4s\u001b[0m 27ms/step - accuracy: 0.9597 - loss: 0.1319 - val_accuracy: 0.6165 - val_loss: 3.0399\n",
      "Epoch 22/30\n",
      "\u001b[1m128/128\u001b[0m \u001b[32m━━━━━━━━━━━━━━━━━━━━\u001b[0m\u001b[37m\u001b[0m \u001b[1m3s\u001b[0m 26ms/step - accuracy: 0.9641 - loss: 0.1162 - val_accuracy: 0.6185 - val_loss: 3.0051\n",
      "Epoch 23/30\n",
      "\u001b[1m128/128\u001b[0m \u001b[32m━━━━━━━━━━━━━━━━━━━━\u001b[0m\u001b[37m\u001b[0m \u001b[1m4s\u001b[0m 27ms/step - accuracy: 0.9640 - loss: 0.1118 - val_accuracy: 0.6195 - val_loss: 3.1292\n",
      "Epoch 24/30\n",
      "\u001b[1m128/128\u001b[0m \u001b[32m━━━━━━━━━━━━━━━━━━━━\u001b[0m\u001b[37m\u001b[0m \u001b[1m3s\u001b[0m 27ms/step - accuracy: 0.9696 - loss: 0.1070 - val_accuracy: 0.6185 - val_loss: 3.2842\n",
      "Epoch 25/30\n",
      "\u001b[1m128/128\u001b[0m \u001b[32m━━━━━━━━━━━━━━━━━━━━\u001b[0m\u001b[37m\u001b[0m \u001b[1m3s\u001b[0m 27ms/step - accuracy: 0.9698 - loss: 0.1016 - val_accuracy: 0.6146 - val_loss: 3.3272\n",
      "Epoch 26/30\n",
      "\u001b[1m128/128\u001b[0m \u001b[32m━━━━━━━━━━━━━━━━━━━━\u001b[0m\u001b[37m\u001b[0m \u001b[1m4s\u001b[0m 27ms/step - accuracy: 0.9768 - loss: 0.0783 - val_accuracy: 0.6126 - val_loss: 3.4223\n",
      "Epoch 27/30\n",
      "\u001b[1m128/128\u001b[0m \u001b[32m━━━━━━━━━━━━━━━━━━━━\u001b[0m\u001b[37m\u001b[0m \u001b[1m3s\u001b[0m 26ms/step - accuracy: 0.9767 - loss: 0.0818 - val_accuracy: 0.6175 - val_loss: 3.4889\n",
      "Epoch 28/30\n",
      "\u001b[1m128/128\u001b[0m \u001b[32m━━━━━━━━━━━━━━━━━━━━\u001b[0m\u001b[37m\u001b[0m \u001b[1m3s\u001b[0m 26ms/step - accuracy: 0.9793 - loss: 0.0670 - val_accuracy: 0.6195 - val_loss: 3.5366\n",
      "Epoch 29/30\n",
      "\u001b[1m128/128\u001b[0m \u001b[32m━━━━━━━━━━━━━━━━━━━━\u001b[0m\u001b[37m\u001b[0m \u001b[1m3s\u001b[0m 26ms/step - accuracy: 0.9761 - loss: 0.0781 - val_accuracy: 0.6136 - val_loss: 3.5670\n",
      "Epoch 30/30\n",
      "\u001b[1m128/128\u001b[0m \u001b[32m━━━━━━━━━━━━━━━━━━━━\u001b[0m\u001b[37m\u001b[0m \u001b[1m4s\u001b[0m 27ms/step - accuracy: 0.9745 - loss: 0.0873 - val_accuracy: 0.6224 - val_loss: 3.5667\n",
      "\u001b[1m32/32\u001b[0m \u001b[32m━━━━━━━━━━━━━━━━━━━━\u001b[0m\u001b[37m\u001b[0m \u001b[1m0s\u001b[0m 4ms/step - accuracy: 0.6025 - loss: 3.5260\n",
      "Test Loss: 3.566725254058838\n",
      "Test Accuracy: 0.6224188804626465\n"
     ]
    }
   ],
   "source": [
    "#number of classes is 22 for the product-category\n",
    "model_4=compile_lstm(X_train,Y_product_category_train,X_test,Y_product_category_test,64,32,22,30,32)"
   ]
  },
  {
   "cell_type": "code",
   "execution_count": 70,
   "id": "fb8fbc44-13bf-46e7-9f63-4bd66ec55885",
   "metadata": {},
   "outputs": [
    {
     "name": "stdout",
     "output_type": "stream",
     "text": [
      "\u001b[1m32/32\u001b[0m \u001b[32m━━━━━━━━━━━━━━━━━━━━\u001b[0m\u001b[37m\u001b[0m \u001b[1m0s\u001b[0m 4ms/step\n"
     ]
    },
    {
     "data": {
      "image/png": "[encoded data removed]",
      "text/plain": [
       "<Figure size 640x480 with 2 Axes>"
      ]
     },
     "metadata": {},
     "output_type": "display_data"
    },
    {
     "name": "stdout",
     "output_type": "stream",
     "text": [
      "\n",
      "               precision    recall  f1-score   support\n",
      "\n",
      "     Class 0       0.32      0.40      0.35       282\n",
      "     Class 1       0.08      0.11      0.09        90\n",
      "     Class 2       0.07      0.02      0.04       123\n",
      "     Class 3       0.01      0.03      0.02        40\n",
      "     Class 4       0.00      0.00      0.00        56\n",
      "     Class 5       0.00      0.14      0.01         7\n",
      "     Class 6       0.15      0.02      0.03       112\n",
      "     Class 7       0.05      0.11      0.06         9\n",
      "     Class 8       0.50      0.02      0.04        49\n",
      "     Class 9       0.00      0.00      0.00        63\n",
      "    Class 10       0.00      0.00      0.00        56\n",
      "    Class 11       0.00      0.00      0.00        43\n",
      "    Class 12       0.00      0.00      0.00         4\n",
      "    Class 13       0.00      0.00      0.00        31\n",
      "    Class 14       0.00      0.00      0.00         1\n",
      "    Class 15       0.00      0.00      0.00        24\n",
      "    Class 16       0.00      0.00      0.00        16\n",
      "    Class 17       0.00      0.00      0.00         1\n",
      "    Class 18       0.00      0.00      0.00         1\n",
      "    Class 19       0.00      0.00      0.00         3\n",
      "    Class 20       0.00      0.00      0.00         6\n",
      "\n",
      "    accuracy                           0.13      1017\n",
      "   macro avg       0.06      0.04      0.03      1017\n",
      "weighted avg       0.15      0.13      0.12      1017\n",
      "\n"
     ]
    },
    {
     "name": "stderr",
     "output_type": "stream",
     "text": [
      "C:\\Users\\USER\\anaconda3\\Lib\\site-packages\\sklearn\\metrics\\_classification.py:1531: UndefinedMetricWarning: Precision is ill-defined and being set to 0.0 in labels with no predicted samples. Use `zero_division` parameter to control this behavior.\n",
      "  _warn_prf(average, modifier, f\"{metric.capitalize()} is\", len(result))\n",
      "C:\\Users\\USER\\anaconda3\\Lib\\site-packages\\sklearn\\metrics\\_classification.py:1531: UndefinedMetricWarning: Precision is ill-defined and being set to 0.0 in labels with no predicted samples. Use `zero_division` parameter to control this behavior.\n",
      "  _warn_prf(average, modifier, f\"{metric.capitalize()} is\", len(result))\n",
      "C:\\Users\\USER\\anaconda3\\Lib\\site-packages\\sklearn\\metrics\\_classification.py:1531: UndefinedMetricWarning: Precision is ill-defined and being set to 0.0 in labels with no predicted samples. Use `zero_division` parameter to control this behavior.\n",
      "  _warn_prf(average, modifier, f\"{metric.capitalize()} is\", len(result))\n"
     ]
    },
    {
     "data": {
      "text/plain": [
       "1"
      ]
     },
     "execution_count": 70,
     "metadata": {},
     "output_type": "execute_result"
    }
   ],
   "source": [
    "lstm_create_heatmap_and_error_report(model_3,X_test,Y_product_category_test,22)"
   ]
  },
  {
   "cell_type": "code",
   "execution_count": 72,
   "id": "2460f575-7124-4953-9b23-93da33f24c6c",
   "metadata": {},
   "outputs": [
    {
     "data": {
      "text/plain": [
       "(565, 7372)"
      ]
     },
     "execution_count": 72,
     "metadata": {},
     "output_type": "execute_result"
    }
   ],
   "source": [
    "#follow the same steps as before to vectorize the title_validation \n",
    "#into a form that can be loaded into the trained model\n",
    "\n",
    "#to avoid having different number of features for the train set and the validation set with the tfidf vectorizer we are \n",
    "#going to use the tfidf vectorizer fitted for the train set to the validation set \n",
    "#the function we created previously will not suffise because it will create a unique representation based on the validation set \n",
    "#with number of features different than the ones in the training set\n",
    "\n",
    "tfidf_vectorizer = TfidfVectorizer()  #create a tfidfvectorizer object\n",
    "\n",
    "\n",
    "tfidf_vectorizer.fit(title)        #fit it for the title of the training set \n",
    "                                                   \n",
    "X_center=tfidf_vectorizer.transform(title)      #transform the title of the training set into a format where each entry is a \n",
    "                                                #numeric vector of shape (m,n) where m \n",
    "                                                #is the number of examples in the given set and n is the number of features\n",
    "\n",
    "X_center_format=X_center.toarray()             #follow this conversion to get an array form\n",
    "                                               #\n",
    "\n",
    "\n",
    "X_val_0=tfidf_vectorizer.transform(title_validation)   #use the vectorizer that is fitted to the training set to transform the input \n",
    "                                                       #from the validation set. the result will be a numeric vector of shape (m_val,n)\n",
    "                                                       #where m_val is the number of entries in the validation set and \n",
    "                                                       #n is the number of features which is the same as the number of features \n",
    "                                                       # used for training\n",
    "\n",
    "X_val_1=X_val_0.toarray()\n",
    "\n",
    "X_val_1.shape"
   ]
  },
  {
   "cell_type": "code",
   "execution_count": 74,
   "id": "5e8a6deb-64bb-4884-9012-b40cff10122c",
   "metadata": {},
   "outputs": [
    {
     "name": "stdout",
     "output_type": "stream",
     "text": [
      "\u001b[1m18/18\u001b[0m \u001b[32m━━━━━━━━━━━━━━━━━━━━\u001b[0m\u001b[37m\u001b[0m \u001b[1m1s\u001b[0m 19ms/step\n"
     ]
    }
   ],
   "source": [
    "PZ_val_prediction=lstm_from_pred_and_dictionary_to_labels(X_val_1,model_4,one_hot_encode_product_category)  #use the aforementioned function\n",
    "                                                       #to predict the product category labels for the validation set using the \n",
    "                                                       #validation title. This function also receives as input the dictionary with \n",
    "                                                       #the labels and their one hot encoding in order to convert the predictions back to text"
   ]
  },
  {
   "cell_type": "code",
   "execution_count": 76,
   "id": "628ca363-c37b-4495-9db2-c541fc284eb9",
   "metadata": {},
   "outputs": [
    {
     "data": {
      "text/plain": [
       "565"
      ]
     },
     "execution_count": 76,
     "metadata": {},
     "output_type": "execute_result"
    }
   ],
   "source": [
    "#PZ_val_prediction\n",
    "\n",
    "len(HZ_val_prediction)\n",
    "len(PZ_val_prediction)"
   ]
  },
  {
   "cell_type": "code",
   "execution_count": 78,
   "id": "55199d70-d53b-4e42-a2c4-dc65413a19ed",
   "metadata": {},
   "outputs": [],
   "source": [
    "#turn the predictions into columns of a new dataframe and save them to a csv file\n",
    "predicted_data_final={\n",
    "'hazard-category': HZ_val_prediction,\n",
    "'product-category': PZ_val_prediction\n",
    "    \n",
    "}\n",
    "df_final=pd.DataFrame(predicted_data_final)\n",
    "\n",
    "# Save the DataFrame to a CSV file\n",
    "df_final.to_csv('st1_title_lstm.csv', index=False)\n"
   ]
  },
  {
   "cell_type": "code",
   "execution_count": null,
   "id": "b35fb3dc-ce8d-4dba-b1bd-e88179d21e9a",
   "metadata": {},
   "outputs": [],
   "source": []
  }
 ],
 "metadata": {
  "kernelspec": {
   "display_name": "Python 3 (ipykernel)",
   "language": "python",
   "name": "python3"
  },
  "language_info": {
   "codemirror_mode": {
    "name": "ipython",
    "version": 3
   },
   "file_extension": ".py",
   "mimetype": "text/x-python",
   "name": "python",
   "nbconvert_exporter": "python",
   "pygments_lexer": "ipython3",
   "version": "3.11.5"
  }
 },
 "nbformat": 4,
 "nbformat_minor": 5
}
