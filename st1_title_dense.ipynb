{
 "cells": [
  {
   "cell_type": "code",
   "execution_count": 3,
   "id": "b4e51815-3605-4c9a-84e8-67af8eb88d95",
   "metadata": {},
   "outputs": [],
   "source": [
    "#import all the necessary libraries\n",
    "import pandas as pd \n",
    "import numpy as  np\n",
    "import re\n",
    "\n",
    "from sklearn.feature_extraction.text import TfidfVectorizer\n",
    "\n",
    "#import all the necessary libraries to build a neural network classifier from tensorflow\n",
    "\n",
    "import tensorflow as tf\n",
    "from tensorflow.keras.models import Sequential                   \n",
    "from tensorflow.keras.layers import Dense                        #import fully connected neural net layers\n",
    "from tensorflow.keras.optimizers import Adam                     #choose adam as the optimization algorithm\n",
    "from tensorflow.keras.losses import CategoricalCrossentropy      #cost function needed for softmax classification if the labels are \n",
    "                                                                 #one hot encoded\n",
    "\n",
    "from tensorflow.keras.regularizers import l2                     #add regularization in order to avoid overfitting \n",
    "\n",
    "from sklearn.model_selection import train_test_split             #to split the training set into train and test set \n",
    "\n",
    "from sklearn.metrics import confusion_matrix, classification_report  #to proceed with error analysis on our predictions\n",
    "\n",
    "\n",
    "import seaborn as sns                                                 #to visualize confusion matrices as a heatmap\n",
    "import matplotlib.pyplot as plt\n",
    "\n",
    "\n",
    "from tensorflow.keras.layers import LSTM, Dropout              #import long-short term memory neural net layers\n",
    "                                                               #and dropout regularization layers"
   ]
  },
  {
   "cell_type": "code",
   "execution_count": null,
   "id": "0aa3fccc-5a2d-43ab-8684-aad3205344dc",
   "metadata": {},
   "outputs": [],
   "source": []
  },
  {
   "cell_type": "code",
   "execution_count": 5,
   "id": "59a12369-b923-430e-b738-85f471c9c144",
   "metadata": {},
   "outputs": [],
   "source": [
    "def  vectorize_string_csv_column_TF_idf(string_column):  \n",
    "                                                #create a function that receives a column of strings from a csv file \n",
    "                                                  #and converts each entry into a unique tfidf vector depending on the \n",
    "                                                  #unique vocabulary\n",
    "                                                   \n",
    "                                                 #necessary to convert a text input into a numeric vector to be used \n",
    "                                                 #as input to the classifier\n",
    "\n",
    "    \n",
    "    tfidf_vectorizer = TfidfVectorizer()  \n",
    "                                      #create a TF_idf_vectorizer model that will receive the entire csv column\n",
    "                                      #and will eventually turn each entry into a numeric vector\n",
    "                                      #the length of each vector will be the number of the unique words in the vocabulary\n",
    "                                      #if this length=N the resulting vectors for each entry will be of dimension (N,)\n",
    "    \n",
    "    tfidf_matrix = tfidf_vectorizer.fit_transform(string_column)  \n",
    "                                                    #apply the created model to the column title of the csv\n",
    "\n",
    "\n",
    "    tfidf_vectors = tfidf_matrix.toarray()          #each entry of the tfidf_vectors is a numeric vector\n",
    "                                                    #corresponding to a title entry\n",
    "                                                    #convert it to an array format for ease of handling\n",
    "\n",
    "    Vocabulary=tfidf_vectorizer.get_feature_names_out()  #export the unique vocabulary out of the created vectorizer model\n",
    "\n",
    "    return tfidf_vectors, Vocabulary   "
   ]
  },
  {
   "cell_type": "code",
   "execution_count": null,
   "id": "57b84b5f-6a74-4941-8ca1-4cf1d2527555",
   "metadata": {},
   "outputs": [],
   "source": []
  },
  {
   "cell_type": "code",
   "execution_count": 9,
   "id": "0dc21fb0-aada-457a-873f-ed74b965cac4",
   "metadata": {},
   "outputs": [],
   "source": [
    "#create a function that finds all the unique labels in a column \n",
    "def find_unique_column_labels(column):\n",
    "     \n",
    "    unique_labels_list=[]               #create a list that will contain all the unique labels found in the input column\n",
    "\n",
    "    for i in column : #search the entire column\n",
    "        if i not in unique_labels_list:   #if the element i is not found in the unique list \n",
    "            unique_labels_list.append(i)  #append it to the list\n",
    "    \n",
    "    return  unique_labels_list "
   ]
  },
  {
   "cell_type": "code",
   "execution_count": null,
   "id": "33171087-9178-441a-8c52-83e23f6d5f79",
   "metadata": {},
   "outputs": [],
   "source": []
  },
  {
   "cell_type": "code",
   "execution_count": 12,
   "id": "95257d90-e92c-4246-a32a-1f57781112a5",
   "metadata": {},
   "outputs": [],
   "source": [
    "def one_hot_encode_labels(unique_labels_of_a_column):\n",
    "    #create a dictionary for these categories that coresponds each one into a one hot numpy vector\n",
    "    #this is necessary in order to use a softmax classifier \n",
    "\n",
    "    number_of_classes=len(unique_labels_of_a_column)  #find the number of classes/possible labels from the vector that contains the unique labels\n",
    "\n",
    "                                               #create a numpy I matrix I lxl where l is the number of classes \n",
    "                                               #each row of the I matrix will correspond to a one hot encoding for each label\n",
    "    I=np.eye(number_of_classes)\n",
    "\n",
    "    #create a dictionary to correspond each class name with it's one hot encoded label\n",
    "\n",
    "    dict_labels={} #initialize an empty dictionary where the keys will be the labels and the values will be their one hot encoding\n",
    "\n",
    "\n",
    "    for i in range(number_of_classes):\n",
    "        dict_labels[unique_labels_of_a_column[i]]=I[i,:]\n",
    "\n",
    "    return dict_labels"
   ]
  },
  {
   "cell_type": "code",
   "execution_count": null,
   "id": "eb8246df-f347-45f0-b092-4d60a0dd47a0",
   "metadata": {},
   "outputs": [],
   "source": []
  },
  {
   "cell_type": "code",
   "execution_count": 15,
   "id": "7cc4cf3c-fbb7-4fbb-acc7-ed0f31a1c77b",
   "metadata": {},
   "outputs": [],
   "source": [
    "def create_Y_label(initial_label_column,dict_labels):\n",
    "    #create the Y part of the dataset by receiving  a column  and the dict_labels corresponding to that column\n",
    "\n",
    "\n",
    "\n",
    "    #len(dict_labels['biological'])\n",
    "\n",
    "    Y1={}   #initialize an empty dictionary\n",
    "    count=0 #and a count variable\n",
    "    for i in initial_label_column:    #search through the hazard_category column of the data frame\n",
    "        for j in dict_labels.keys():  #and through all the keys of the labels dictionary with keys all the unique labels \n",
    "                                  #and values their one hot encoded representation\n",
    "            if i==j:                   #if you find a match\n",
    "                Y1[count]=dict_labels[j]   #assign the category with it's one hot encoding\n",
    "                count+=1\n",
    "    #Y\n",
    "    #now the dictionary above should be turned into a numpy matrix with its elements being column vectors\n",
    "\n",
    "    # Convert dictionary values to a numpy matrix\n",
    "    matrix = np.array([v for v in Y1.values()]).T\n",
    "\n",
    "    matrix.shape #Nxm format\n",
    "    return matrix    "
   ]
  },
  {
   "cell_type": "code",
   "execution_count": null,
   "id": "cab36b65-9c25-4f68-a179-a8e1c7a2602f",
   "metadata": {},
   "outputs": [],
   "source": []
  },
  {
   "cell_type": "code",
   "execution_count": 18,
   "id": "e7ca31c2-63b1-4080-9e7a-70d977b96eaa",
   "metadata": {},
   "outputs": [],
   "source": [
    "def train_and_eval_dense_nn(X_train,Y_train,X_test,Y_test,hu_1,hu_2,number_of_classes,a_epochs,a_batch_size):\n",
    "    #define a function that trains a fully connected dense neural net to fit the pre-processed data\n",
    "    #X_train are the training data\n",
    "    #Y_train are the training labels \n",
    "    #X_test,Y_test are the data we are going to use for validation\n",
    "    #hu_1 is the number of hidden units in layer 1\n",
    "    #hu_2 is the number of hidden units in layer 2\n",
    "    #number of classes is self explanatory and it is required for the softmax classification layer\n",
    "    #a_epochs is the number of training epochs \n",
    "    #and a_batch size is the number of batches that we use to split the training data\n",
    "    #the activation function is chosen as the relu activation f(z)=max(z,0)\n",
    "    #and the regularization is set to zero after manual tuning\n",
    "    \n",
    "    model = Sequential([                                          #model architecture    \n",
    "    Dense(hu_1, activation='relu', input_shape=(X_train.shape[1],),kernel_regularizer=l2(0)),  \n",
    "    Dense(hu_2, activation='relu',kernel_regularizer=l2(0)),                      \n",
    "    Dense(number_of_classes, activation='softmax',kernel_regularizer=l2(0))         \n",
    "    ])\n",
    "\n",
    "    # Compile the model\n",
    "    model.compile(optimizer=Adam(learning_rate=0.001),           #for training the model the Adam optimization algorithm has been chosen \n",
    "                                                                  #with initial learning rate=0.001\n",
    "        loss=CategoricalCrossentropy(),                            #since the output labels are one-hot encoded we have chosen the \n",
    "                                                                 #Categorical cross entropy function as a loss function\n",
    "        metrics=['accuracy'])\n",
    "\n",
    "    model.fit(     #the method fit is used to actually train the model using the X_train and Y_train \n",
    "    X_train, Y_train,    #as training data and X_test,Y_test as validation data \n",
    "    validation_data=(X_test, Y_test),\n",
    "    epochs=a_epochs,          #the number of epochs chosen for the training are 30\n",
    "    batch_size=a_batch_size,     #the training itself is mini batch gradient-descent with adam and the training data -set is split into \n",
    "    verbose=1          #32 batches    \n",
    "    )\n",
    "\n",
    "\n",
    "    test_loss, test_accuracy = model.evaluate(X_test, Y_test, verbose=1)   #we now evaluate the models performance on the\n",
    "                                                                       #X_test and Y_test data for which we now the labels \n",
    "                                                                       #but these labels are unkown to the model \n",
    "                                                                       #using only the input data X_test it predicts the output \n",
    "                                                                       #labels and then compares them with the actual Y_test labels\n",
    "\n",
    "    print(\"Test Loss:\", test_loss)                           #depict the final value of the cost function for the test set                                     \n",
    "    print(\"Test Accuracy:\", test_accuracy)                  #depict the accuracy of predictions in the test set\n",
    "\n",
    "\n",
    "\n",
    "    \n",
    "    return model"
   ]
  },
  {
   "cell_type": "code",
   "execution_count": null,
   "id": "b81a219e-789b-44ef-96b6-057aff6905c0",
   "metadata": {},
   "outputs": [],
   "source": []
  },
  {
   "cell_type": "code",
   "execution_count": 21,
   "id": "426585ab-d9f9-42ff-a0e2-5f9562e95a3a",
   "metadata": {},
   "outputs": [],
   "source": [
    "def create_heatmap_and_error_report(model,X_test,Y_test,num_of_classes):  #input the X_test \n",
    "                                                                    #and Y_test\n",
    "                                                                    #make predictions on X_test with the model\n",
    "                                                                    #compare the model predictions with \n",
    "                                                                    #the actual Y_test and create an error analysis\n",
    "\n",
    "    \n",
    "    Y_predict_initial=model.predict(X_test) #we predict the model output for the X_test \n",
    "        #and we are going to compare with the actual lables from Y_test\n",
    "\n",
    "    #Each entry y in Y_predict_initial is a vector of  outputs= number of classes, containing the probabilities that show \n",
    "    #how likely it is for the model to assign an entry x of x_test to a specific class.\n",
    "    #For the entry x with prediction y if y[0] is the highest amongst the elements of y, x will be assigned to \n",
    "    #class 0. If y[1] is the highest then x will be assigned to class_1 and so on\n",
    "\n",
    "    #As a result, we need to find the index of  maximum element of each y in Y_predict \n",
    "    #that will show us in which class x corresponds to:\n",
    "    Y_intermediate = np.argmax(Y_predict_initial, axis=1) #find the index of the maximum element for each y in Y_predict_initial\n",
    "    \n",
    "    #we are also going to convert Y_test from a one hot encoding to \n",
    "    #the number of class this one hot encoding represents and compare it with \n",
    "    #the predicted class stored in Y_intermediate\n",
    "\n",
    "    Y_true = np.argmax(Y_test, axis=1)  #due to the fact that we have a one hot encoding, finding the index of the max \n",
    "                                    #element will lead directly to the number of class it represents\n",
    "\n",
    "    #\n",
    "    #we are going to find out where Y_true matches our prediction in Y_intermediate \n",
    "    #and we are going to display a confusion matrix of the true vs the prediction\n",
    "\n",
    "    \n",
    "    conf_mat=confusion_matrix(Y_true,Y_intermediate)\n",
    "    \n",
    "\n",
    "    sns.heatmap(conf_mat,annot=True, fmt='d', cmap='Blues')\n",
    "    plt.xlabel('Predicted Class')\n",
    "    plt.ylabel('True Class')\n",
    "    plt.title('Confusion Matrix')\n",
    "    plt.show()\n",
    "\n",
    "\n",
    "    \n",
    "    #the classification report is applied to the test set which is a random split from the entire training set\n",
    "    #as a result it may not include the entire number of classes and we will get the error report based on the \n",
    "    #classes stored in the confusion matrix and the test set\n",
    "    report = classification_report(Y_true, Y_intermediate, target_names=[f\"Class {i}\" for i in range(conf_mat.shape[0])]) \n",
    "    print(\"\\n\",report)\n",
    "\n",
    "    return 1"
   ]
  },
  {
   "cell_type": "code",
   "execution_count": null,
   "id": "9b4ccfa0-fd03-4213-8f15-925951588d7a",
   "metadata": {},
   "outputs": [],
   "source": []
  },
  {
   "cell_type": "code",
   "execution_count": 24,
   "id": "8ab2069a-7062-4fb4-b18c-88507be57de1",
   "metadata": {},
   "outputs": [],
   "source": [
    "#make a function that inputs data X\n",
    "#the model that makes predictions and the \n",
    "#dictionary with the labels and their one hot encoding. \n",
    "#It computes the numeric predictions for X and turns them into the text of the label \n",
    "#they correspond to\n",
    "\n",
    "def from_pred_and_dictionary_to_labels(X,model,one_hot_dictionary):\n",
    "    \n",
    "        #predicted output\n",
    "    Y_pr=model.predict(X)\n",
    "\n",
    "        #create a new dictionary with the key being the index/label of the one_hot_dictionary\n",
    "        #and the value of this new  dictionary being the phrase of the one hot encoding \n",
    "\n",
    "    new_dict={}\n",
    "\n",
    "    for key,value in one_hot_dictionary.items():   \n",
    "        convert_one_hot_encode_to_number=np.argmax(value)    #get the number representation of the one hot encoding\n",
    "        label=key                                            #get the phrase of the one hot encoding \n",
    "        new_dict[convert_one_hot_encode_to_number]=label     #store them as number-> phrase\n",
    "\n",
    "    #use the newly created dictionary to map the predictions into the labels\n",
    "    predictions_text_format=[]\n",
    "\n",
    "    for i in Y_pr:\n",
    "        chosen_label=np.argmax(i) #loop through the predictions of the model and choose to which label the prediction is assigned\n",
    "        predictions_text_format.append(new_dict[chosen_label]) #get the phrase corresponding to that label and append it to a list\n",
    "        \n",
    "    return predictions_text_format"
   ]
  },
  {
   "cell_type": "code",
   "execution_count": null,
   "id": "5df3ea60-789f-423b-919a-be56fe8e6647",
   "metadata": {},
   "outputs": [],
   "source": []
  },
  {
   "cell_type": "code",
   "execution_count": 27,
   "id": "755d30f8-fa74-49a4-8259-346b8635dbb5",
   "metadata": {},
   "outputs": [],
   "source": [
    "#load the csv incidents_train into a data frame\n",
    "\n",
    "df=pd.read_csv('incidents_train.csv')\n",
    "#df.head()\n",
    "\n",
    "#isolate the title category which is to be used as the input X to a classifier\n",
    "title=df['title']"
   ]
  },
  {
   "cell_type": "code",
   "execution_count": null,
   "id": "66a223fe-fd47-4a41-9335-18750ce8fa64",
   "metadata": {},
   "outputs": [],
   "source": []
  },
  {
   "cell_type": "code",
   "execution_count": 30,
   "id": "48802827-a696-47f4-a17f-0388c76bebae",
   "metadata": {},
   "outputs": [],
   "source": [
    "X,unique_title_voc=vectorize_string_csv_column_TF_idf(title)\n",
    "#X.shape"
   ]
  },
  {
   "cell_type": "code",
   "execution_count": null,
   "id": "172b3eea-dd1f-44c4-b335-896990831578",
   "metadata": {},
   "outputs": [],
   "source": []
  },
  {
   "cell_type": "code",
   "execution_count": 33,
   "id": "3b6beee6-d42a-44e8-93fa-07766078b4b8",
   "metadata": {},
   "outputs": [
    {
     "data": {
      "text/plain": [
       "(5082, 10)"
      ]
     },
     "execution_count": 33,
     "metadata": {},
     "output_type": "execute_result"
    }
   ],
   "source": [
    "hazard_category=df['hazard-category']  #get the hazard category for the data frame refering to the training set\n",
    "unique_hazard_category_labels=find_unique_column_labels(hazard_category) #find the unique labels of product category\n",
    "\n",
    "\n",
    "one_hot_encode_hazard_category=one_hot_encode_labels(unique_hazard_category_labels)#one hot encode these labels and get a \n",
    "#dictionary with the key being the label and the value being its one hot encoding\n",
    "#one_hot_encode_hazard_category\n",
    "\n",
    "Y_hazard_category_transposed=create_Y_label(hazard_category,one_hot_encode_hazard_category)\n",
    "#create the Y part of the data-set but in a transposed format\n",
    "\n",
    "Y_hazard_category=Y_hazard_category_transposed.T\n",
    "Y_hazard_category.shape"
   ]
  },
  {
   "cell_type": "code",
   "execution_count": 35,
   "id": "6bb4c4a7-23c6-4951-94e0-fe4745195bb3",
   "metadata": {},
   "outputs": [
    {
     "data": {
      "text/plain": [
       "{'biological': array([1., 0., 0., 0., 0., 0., 0., 0., 0., 0.]),\n",
       " 'foreign bodies': array([0., 1., 0., 0., 0., 0., 0., 0., 0., 0.]),\n",
       " 'chemical': array([0., 0., 1., 0., 0., 0., 0., 0., 0., 0.]),\n",
       " 'fraud': array([0., 0., 0., 1., 0., 0., 0., 0., 0., 0.]),\n",
       " 'organoleptic aspects': array([0., 0., 0., 0., 1., 0., 0., 0., 0., 0.]),\n",
       " 'allergens': array([0., 0., 0., 0., 0., 1., 0., 0., 0., 0.]),\n",
       " 'packaging defect': array([0., 0., 0., 0., 0., 0., 1., 0., 0., 0.]),\n",
       " 'other hazard': array([0., 0., 0., 0., 0., 0., 0., 1., 0., 0.]),\n",
       " 'food additives and flavourings': array([0., 0., 0., 0., 0., 0., 0., 0., 1., 0.]),\n",
       " 'migration': array([0., 0., 0., 0., 0., 0., 0., 0., 0., 1.])}"
      ]
     },
     "execution_count": 35,
     "metadata": {},
     "output_type": "execute_result"
    }
   ],
   "source": [
    "one_hot_encode_hazard_category"
   ]
  },
  {
   "cell_type": "code",
   "execution_count": 37,
   "id": "94d92158-051c-4e2e-a71c-8244e31da82f",
   "metadata": {},
   "outputs": [],
   "source": [
    "#split the data intro train and test set\n",
    "#using the processed title data as X\n",
    "#and hazard category as Y\n",
    "X_train, X_test, Y_hazard_category_train, Y_hazard_category_test = train_test_split(X, Y_hazard_category, test_size=0.2, random_state=42)"
   ]
  },
  {
   "cell_type": "code",
   "execution_count": 41,
   "id": "43c86345-e75b-4946-b6e0-7f9d8c142177",
   "metadata": {},
   "outputs": [
    {
     "name": "stderr",
     "output_type": "stream",
     "text": [
      "C:\\Users\\USER\\anaconda3\\Lib\\site-packages\\keras\\src\\layers\\core\\dense.py:87: UserWarning: Do not pass an `input_shape`/`input_dim` argument to a layer. When using Sequential models, prefer using an `Input(shape)` object as the first layer in the model instead.\n",
      "  super().__init__(activity_regularizer=activity_regularizer, **kwargs)\n"
     ]
    },
    {
     "name": "stdout",
     "output_type": "stream",
     "text": [
      "Epoch 1/7\n",
      "\u001b[1m128/128\u001b[0m \u001b[32m━━━━━━━━━━━━━━━━━━━━\u001b[0m\u001b[37m\u001b[0m \u001b[1m4s\u001b[0m 25ms/step - accuracy: 0.4579 - loss: 1.7114 - val_accuracy: 0.7738 - val_loss: 0.7581\n",
      "Epoch 2/7\n",
      "\u001b[1m128/128\u001b[0m \u001b[32m━━━━━━━━━━━━━━━━━━━━\u001b[0m\u001b[37m\u001b[0m \u001b[1m3s\u001b[0m 23ms/step - accuracy: 0.8686 - loss: 0.4561 - val_accuracy: 0.8220 - val_loss: 0.6090\n",
      "Epoch 3/7\n",
      "\u001b[1m128/128\u001b[0m \u001b[32m━━━━━━━━━━━━━━━━━━━━\u001b[0m\u001b[37m\u001b[0m \u001b[1m3s\u001b[0m 23ms/step - accuracy: 0.9526 - loss: 0.1758 - val_accuracy: 0.8309 - val_loss: 0.6066\n",
      "Epoch 4/7\n",
      "\u001b[1m128/128\u001b[0m \u001b[32m━━━━━━━━━━━━━━━━━━━━\u001b[0m\u001b[37m\u001b[0m \u001b[1m3s\u001b[0m 23ms/step - accuracy: 0.9902 - loss: 0.0661 - val_accuracy: 0.8368 - val_loss: 0.6519\n",
      "Epoch 5/7\n",
      "\u001b[1m128/128\u001b[0m \u001b[32m━━━━━━━━━━━━━━━━━━━━\u001b[0m\u001b[37m\u001b[0m \u001b[1m3s\u001b[0m 22ms/step - accuracy: 0.9973 - loss: 0.0243 - val_accuracy: 0.8240 - val_loss: 0.6942\n",
      "Epoch 6/7\n",
      "\u001b[1m128/128\u001b[0m \u001b[32m━━━━━━━━━━━━━━━━━━━━\u001b[0m\u001b[37m\u001b[0m \u001b[1m3s\u001b[0m 23ms/step - accuracy: 0.9987 - loss: 0.0119 - val_accuracy: 0.8368 - val_loss: 0.7222\n",
      "Epoch 7/7\n",
      "\u001b[1m128/128\u001b[0m \u001b[32m━━━━━━━━━━━━━━━━━━━━\u001b[0m\u001b[37m\u001b[0m \u001b[1m3s\u001b[0m 23ms/step - accuracy: 0.9965 - loss: 0.0136 - val_accuracy: 0.8328 - val_loss: 0.7412\n",
      "\u001b[1m32/32\u001b[0m \u001b[32m━━━━━━━━━━━━━━━━━━━━\u001b[0m\u001b[37m\u001b[0m \u001b[1m0s\u001b[0m 4ms/step - accuracy: 0.8173 - loss: 0.8321\n",
      "Test Loss: 0.7411993741989136\n",
      "Test Accuracy: 0.832841694355011\n"
     ]
    }
   ],
   "source": [
    "#10 is the number of categories found in the product hazard\n",
    "model=train_and_eval_dense_nn(X_train,Y_hazard_category_train,X_test,Y_hazard_category_test,256,120,10,7,32)"
   ]
  },
  {
   "cell_type": "code",
   "execution_count": 43,
   "id": "7f8ceb9c-8823-4fb2-b501-ba3cf15cfd69",
   "metadata": {},
   "outputs": [
    {
     "name": "stdout",
     "output_type": "stream",
     "text": [
      "\u001b[1m32/32\u001b[0m \u001b[32m━━━━━━━━━━━━━━━━━━━━\u001b[0m\u001b[37m\u001b[0m \u001b[1m0s\u001b[0m 4ms/step\n"
     ]
    },
    {
     "data": {
      "image/png": "[encoded data removed]",
      "text/plain": [
       "<Figure size 640x480 with 2 Axes>"
      ]
     },
     "metadata": {},
     "output_type": "display_data"
    },
    {
     "name": "stdout",
     "output_type": "stream",
     "text": [
      "\n",
      "               precision    recall  f1-score   support\n",
      "\n",
      "     Class 0       0.87      0.91      0.89       339\n",
      "     Class 1       0.76      0.77      0.77       111\n",
      "     Class 2       0.80      0.66      0.73        68\n",
      "     Class 3       0.68      0.60      0.64        68\n",
      "     Class 4       0.43      0.30      0.35        10\n",
      "     Class 5       0.86      0.92      0.89       377\n",
      "     Class 6       1.00      0.18      0.31        11\n",
      "     Class 7       0.82      0.52      0.64        27\n",
      "     Class 8       0.00      0.00      0.00         5\n",
      "     Class 9       0.00      0.00      0.00         1\n",
      "\n",
      "    accuracy                           0.83      1017\n",
      "   macro avg       0.62      0.49      0.52      1017\n",
      "weighted avg       0.83      0.83      0.82      1017\n",
      "\n"
     ]
    },
    {
     "name": "stderr",
     "output_type": "stream",
     "text": [
      "C:\\Users\\USER\\anaconda3\\Lib\\site-packages\\sklearn\\metrics\\_classification.py:1531: UndefinedMetricWarning: Precision is ill-defined and being set to 0.0 in labels with no predicted samples. Use `zero_division` parameter to control this behavior.\n",
      "  _warn_prf(average, modifier, f\"{metric.capitalize()} is\", len(result))\n",
      "C:\\Users\\USER\\anaconda3\\Lib\\site-packages\\sklearn\\metrics\\_classification.py:1531: UndefinedMetricWarning: Precision is ill-defined and being set to 0.0 in labels with no predicted samples. Use `zero_division` parameter to control this behavior.\n",
      "  _warn_prf(average, modifier, f\"{metric.capitalize()} is\", len(result))\n",
      "C:\\Users\\USER\\anaconda3\\Lib\\site-packages\\sklearn\\metrics\\_classification.py:1531: UndefinedMetricWarning: Precision is ill-defined and being set to 0.0 in labels with no predicted samples. Use `zero_division` parameter to control this behavior.\n",
      "  _warn_prf(average, modifier, f\"{metric.capitalize()} is\", len(result))\n"
     ]
    },
    {
     "data": {
      "text/plain": [
       "1"
      ]
     },
     "execution_count": 43,
     "metadata": {},
     "output_type": "execute_result"
    }
   ],
   "source": [
    "create_heatmap_and_error_report(model,X_test,Y_hazard_category_test,10)"
   ]
  },
  {
   "cell_type": "code",
   "execution_count": 45,
   "id": "4f0f8891-95b6-44f8-af8e-f451333f4234",
   "metadata": {},
   "outputs": [],
   "source": [
    "#read the validation_file for hazard category and create a prediction vector\n",
    "\n",
    "#load the csv incidents_val into a data frame\n",
    "\n",
    "df_validation=pd.read_csv('incidents_val.csv')\n",
    "#df.head()\n",
    "\n",
    "#isolate the title category which is to be used as the input X to a classifier\n",
    "title_validation=df_validation['title']"
   ]
  },
  {
   "cell_type": "code",
   "execution_count": 47,
   "id": "353197c2-5c31-4353-963b-46ce3faddca3",
   "metadata": {},
   "outputs": [
    {
     "data": {
      "text/plain": [
       "(565, 7372)"
      ]
     },
     "execution_count": 47,
     "metadata": {},
     "output_type": "execute_result"
    }
   ],
   "source": [
    "#follow the same steps as before to vectorize the title_validation \n",
    "#into a form that can be loaded into the trained model\n",
    "\n",
    "#to avoid having different number of features for the train set and the validation set with the tfidf vectorizer we are \n",
    "#going to use the tfidf vectorizer fitted for the train set to the validation set \n",
    "#the function we created previously will not suffise because it will create a unique representation based on the validation set \n",
    "#with number of features different than the ones in the training set\n",
    "\n",
    "tfidf_vectorizer = TfidfVectorizer()  #create a tfidfvectorizer object\n",
    "\n",
    "\n",
    "tfidf_vectorizer.fit(title)        #fit it for the title of the training set \n",
    "                                                   \n",
    "X_center=tfidf_vectorizer.transform(title)      #transform the title of the training set into a format where each entry is a \n",
    "                                                #numeric vector of shape (m,n) where m \n",
    "                                                #is the number of examples in the given set and n is the number of features\n",
    "\n",
    "X_center_format=X_center.toarray()             #follow this conversion to get an array form\n",
    "                                               #\n",
    "\n",
    "\n",
    "X_val_0=tfidf_vectorizer.transform(title_validation)   #use the vectorizer that is fitted to the training set to transform the input \n",
    "                                                       #from the validation set. the result will be a numeric vector of shape (m_val,n)\n",
    "                                                       #where m_val is the number of entries in the validation set and \n",
    "                                                       #n is the number of features which is the same as the number of features \n",
    "                                                       # used for training\n",
    "\n",
    "X_val_1=X_val_0.toarray()\n",
    "\n",
    "X_val_1.shape"
   ]
  },
  {
   "cell_type": "code",
   "execution_count": 49,
   "id": "0833fb3d-08f7-41a9-b535-9991265e6dff",
   "metadata": {},
   "outputs": [
    {
     "name": "stdout",
     "output_type": "stream",
     "text": [
      "\u001b[1m18/18\u001b[0m \u001b[32m━━━━━━━━━━━━━━━━━━━━\u001b[0m\u001b[37m\u001b[0m \u001b[1m0s\u001b[0m 3ms/step\n"
     ]
    }
   ],
   "source": [
    "#predictions in text format from the trained dense model named model\n",
    "\n",
    "HZ_val_prediction=from_pred_and_dictionary_to_labels(X_val_1,model,one_hot_encode_hazard_category)  #use the aforementioned function\n",
    "                                                       #to predict the Hazard category labels for the validation set using the \n",
    "                                                       #validation title. This function also receives as input the dictionary with \n",
    "                                                       #the labels and their one hot encoding in order to convert the predictions back to text"
   ]
  },
  {
   "cell_type": "code",
   "execution_count": null,
   "id": "a31a53ef-40ef-4756-a571-06db9de6c903",
   "metadata": {},
   "outputs": [],
   "source": []
  },
  {
   "cell_type": "code",
   "execution_count": 52,
   "id": "f73b686c-550d-44b0-9a77-e7d3b9fa4d49",
   "metadata": {},
   "outputs": [],
   "source": [
    "#now we are going to follow the exact same procedure and train a seperate model to predict \n",
    "#the product category first for the training set and then for the validation set\n"
   ]
  },
  {
   "cell_type": "code",
   "execution_count": 54,
   "id": "a0f31549-65fc-49c1-8498-3dec90c62b4e",
   "metadata": {},
   "outputs": [
    {
     "data": {
      "text/plain": [
       "(5082, 22)"
      ]
     },
     "execution_count": 54,
     "metadata": {},
     "output_type": "execute_result"
    }
   ],
   "source": [
    "product_category=df['product-category'] #get the product category for the data frame refering to the training set\n",
    "unique_product_category_labels=find_unique_column_labels(product_category) #find the unique labels of product category\n",
    "\n",
    "one_hot_encode_product_category=one_hot_encode_labels(unique_product_category_labels) #one hot encode these labels and get a \n",
    "#dictionary with the key being the label and the value being its one hot encoding\n",
    "\n",
    "\n",
    "Y_product_category_transposed=create_Y_label(product_category,one_hot_encode_product_category)\n",
    "#create the Y part of the data set\n",
    "\n",
    "Y_product_category=Y_product_category_transposed.T\n",
    "Y_product_category.shape"
   ]
  },
  {
   "cell_type": "code",
   "execution_count": null,
   "id": "38a95d88-e81e-4f86-93b6-6e62df72e8f2",
   "metadata": {},
   "outputs": [],
   "source": []
  },
  {
   "cell_type": "code",
   "execution_count": 57,
   "id": "a77f7fe4-9bb8-4cf9-a313-491445e9cc54",
   "metadata": {},
   "outputs": [],
   "source": [
    "#split the data intro train and test set\n",
    "#using the processed title data as X\n",
    "#and product category as Y\n",
    "X_train, X_test, Y_product_category_train, Y_product_category_test = train_test_split(X, Y_product_category, test_size=0.2, random_state=42)"
   ]
  },
  {
   "cell_type": "code",
   "execution_count": null,
   "id": "edda851c-f397-454d-9846-330f010954bb",
   "metadata": {},
   "outputs": [],
   "source": []
  },
  {
   "cell_type": "code",
   "execution_count": 60,
   "id": "64676df7-6160-4c1a-9f70-76fbaba2a463",
   "metadata": {},
   "outputs": [
    {
     "name": "stdout",
     "output_type": "stream",
     "text": [
      "Epoch 1/7\n"
     ]
    },
    {
     "name": "stderr",
     "output_type": "stream",
     "text": [
      "C:\\Users\\USER\\anaconda3\\Lib\\site-packages\\keras\\src\\layers\\core\\dense.py:87: UserWarning: Do not pass an `input_shape`/`input_dim` argument to a layer. When using Sequential models, prefer using an `Input(shape)` object as the first layer in the model instead.\n",
      "  super().__init__(activity_regularizer=activity_regularizer, **kwargs)\n"
     ]
    },
    {
     "name": "stdout",
     "output_type": "stream",
     "text": [
      "\u001b[1m128/128\u001b[0m \u001b[32m━━━━━━━━━━━━━━━━━━━━\u001b[0m\u001b[37m\u001b[0m \u001b[1m4s\u001b[0m 25ms/step - accuracy: 0.2865 - loss: 2.6144 - val_accuracy: 0.4818 - val_loss: 1.7241\n",
      "Epoch 2/7\n",
      "\u001b[1m128/128\u001b[0m \u001b[32m━━━━━━━━━━━━━━━━━━━━\u001b[0m\u001b[37m\u001b[0m \u001b[1m3s\u001b[0m 23ms/step - accuracy: 0.6616 - loss: 1.2675 - val_accuracy: 0.6981 - val_loss: 1.1057\n",
      "Epoch 3/7\n",
      "\u001b[1m128/128\u001b[0m \u001b[32m━━━━━━━━━━━━━━━━━━━━\u001b[0m\u001b[37m\u001b[0m \u001b[1m3s\u001b[0m 23ms/step - accuracy: 0.9044 - loss: 0.4642 - val_accuracy: 0.7188 - val_loss: 1.0433\n",
      "Epoch 4/7\n",
      "\u001b[1m128/128\u001b[0m \u001b[32m━━━━━━━━━━━━━━━━━━━━\u001b[0m\u001b[37m\u001b[0m \u001b[1m3s\u001b[0m 22ms/step - accuracy: 0.9625 - loss: 0.1897 - val_accuracy: 0.7089 - val_loss: 1.0606\n",
      "Epoch 5/7\n",
      "\u001b[1m128/128\u001b[0m \u001b[32m━━━━━━━━━━━━━━━━━━━━\u001b[0m\u001b[37m\u001b[0m \u001b[1m3s\u001b[0m 23ms/step - accuracy: 0.9833 - loss: 0.0901 - val_accuracy: 0.7070 - val_loss: 1.1014\n",
      "Epoch 6/7\n",
      "\u001b[1m128/128\u001b[0m \u001b[32m━━━━━━━━━━━━━━━━━━━━\u001b[0m\u001b[37m\u001b[0m \u001b[1m3s\u001b[0m 23ms/step - accuracy: 0.9918 - loss: 0.0473 - val_accuracy: 0.7119 - val_loss: 1.1421\n",
      "Epoch 7/7\n",
      "\u001b[1m128/128\u001b[0m \u001b[32m━━━━━━━━━━━━━━━━━━━━\u001b[0m\u001b[37m\u001b[0m \u001b[1m3s\u001b[0m 22ms/step - accuracy: 0.9961 - loss: 0.0308 - val_accuracy: 0.7070 - val_loss: 1.2163\n",
      "\u001b[1m32/32\u001b[0m \u001b[32m━━━━━━━━━━━━━━━━━━━━\u001b[0m\u001b[37m\u001b[0m \u001b[1m0s\u001b[0m 4ms/step - accuracy: 0.6852 - loss: 1.2931\n",
      "Test Loss: 1.216332197189331\n",
      "Test Accuracy: 0.7069813013076782\n"
     ]
    }
   ],
   "source": [
    "#train a different dense net than before in order to predict the product-category column of the data frame\n",
    "#22 is the number of unique categories for product-category\n",
    "model_2=train_and_eval_dense_nn(X_train,Y_product_category_train,X_test,Y_product_category_test,256,128,22,7,32)"
   ]
  },
  {
   "cell_type": "code",
   "execution_count": 62,
   "id": "e92eeb7f-1bed-4e8c-b34b-3355faebc954",
   "metadata": {},
   "outputs": [
    {
     "data": {
      "text/plain": [
       "(1017, 22)"
      ]
     },
     "execution_count": 62,
     "metadata": {},
     "output_type": "execute_result"
    }
   ],
   "source": [
    "Y_product_category_test.shape"
   ]
  },
  {
   "cell_type": "code",
   "execution_count": 64,
   "id": "1cac06d1-66a7-40e5-9128-7f6ed099c545",
   "metadata": {},
   "outputs": [
    {
     "name": "stdout",
     "output_type": "stream",
     "text": [
      "\u001b[1m32/32\u001b[0m \u001b[32m━━━━━━━━━━━━━━━━━━━━\u001b[0m\u001b[37m\u001b[0m \u001b[1m0s\u001b[0m 4ms/step\n"
     ]
    },
    {
     "data": {
      "image/png": "[encoded data removed]",
      "text/plain": [
       "<Figure size 640x480 with 2 Axes>"
      ]
     },
     "metadata": {},
     "output_type": "display_data"
    },
    {
     "name": "stdout",
     "output_type": "stream",
     "text": [
      "\n",
      "               precision    recall  f1-score   support\n",
      "\n",
      "     Class 0       0.84      0.85      0.85       282\n",
      "     Class 1       0.36      0.59      0.45        90\n",
      "     Class 2       0.65      0.73      0.69       123\n",
      "     Class 3       0.63      0.30      0.41        40\n",
      "     Class 4       0.96      0.84      0.90        56\n",
      "     Class 5       0.50      0.29      0.36         7\n",
      "     Class 6       0.74      0.75      0.74       112\n",
      "     Class 7       0.67      0.44      0.53         9\n",
      "     Class 8       0.70      0.61      0.65        49\n",
      "     Class 9       0.66      0.76      0.71        63\n",
      "    Class 10       0.91      0.70      0.79        56\n",
      "    Class 11       0.61      0.44      0.51        43\n",
      "    Class 12       1.00      0.50      0.67         4\n",
      "    Class 13       0.90      0.61      0.73        31\n",
      "    Class 14       1.00      1.00      1.00         1\n",
      "    Class 15       0.83      0.62      0.71        24\n",
      "    Class 16       0.61      0.69      0.65        16\n",
      "    Class 17       1.00      1.00      1.00         1\n",
      "    Class 18       0.00      0.00      0.00         1\n",
      "    Class 19       0.00      0.00      0.00         3\n",
      "    Class 20       0.60      0.50      0.55         6\n",
      "\n",
      "    accuracy                           0.71      1017\n",
      "   macro avg       0.67      0.58      0.61      1017\n",
      "weighted avg       0.73      0.71      0.71      1017\n",
      "\n"
     ]
    },
    {
     "name": "stderr",
     "output_type": "stream",
     "text": [
      "C:\\Users\\USER\\anaconda3\\Lib\\site-packages\\sklearn\\metrics\\_classification.py:1531: UndefinedMetricWarning: Precision is ill-defined and being set to 0.0 in labels with no predicted samples. Use `zero_division` parameter to control this behavior.\n",
      "  _warn_prf(average, modifier, f\"{metric.capitalize()} is\", len(result))\n",
      "C:\\Users\\USER\\anaconda3\\Lib\\site-packages\\sklearn\\metrics\\_classification.py:1531: UndefinedMetricWarning: Precision is ill-defined and being set to 0.0 in labels with no predicted samples. Use `zero_division` parameter to control this behavior.\n",
      "  _warn_prf(average, modifier, f\"{metric.capitalize()} is\", len(result))\n",
      "C:\\Users\\USER\\anaconda3\\Lib\\site-packages\\sklearn\\metrics\\_classification.py:1531: UndefinedMetricWarning: Precision is ill-defined and being set to 0.0 in labels with no predicted samples. Use `zero_division` parameter to control this behavior.\n",
      "  _warn_prf(average, modifier, f\"{metric.capitalize()} is\", len(result))\n"
     ]
    },
    {
     "data": {
      "text/plain": [
       "1"
      ]
     },
     "execution_count": 64,
     "metadata": {},
     "output_type": "execute_result"
    }
   ],
   "source": [
    "create_heatmap_and_error_report(model_2,X_test,Y_product_category_test,Y_product_category_test.shape[1])"
   ]
  },
  {
   "cell_type": "code",
   "execution_count": 66,
   "id": "874dd596-693b-43f7-b765-778ebf40c107",
   "metadata": {},
   "outputs": [
    {
     "data": {
      "text/plain": [
       "(565, 7372)"
      ]
     },
     "execution_count": 66,
     "metadata": {},
     "output_type": "execute_result"
    }
   ],
   "source": [
    "#follow the same steps as before to vectorize the title_validation \n",
    "#into a form that can be loaded into the trained model\n",
    "\n",
    "#to avoid having different number of features for the train set and the validation set with the tfidf vectorizer we are \n",
    "#going to use the tfidf vectorizer fitted for the train set to the validation set \n",
    "#the function we created previously will not suffise because it will create a unique representation based on the validation set \n",
    "#with number of features different than the ones in the training set\n",
    "\n",
    "tfidf_vectorizer = TfidfVectorizer()  #create a tfidfvectorizer object\n",
    "\n",
    "\n",
    "tfidf_vectorizer.fit(title)        #fit it for the title of the training set \n",
    "                                                   \n",
    "X_center=tfidf_vectorizer.transform(title)      #transform the title of the training set into a format where each entry is a \n",
    "                                                #numeric vector of shape (m,n) where m \n",
    "                                                #is the number of examples in the given set and n is the number of features\n",
    "\n",
    "X_center_format=X_center.toarray()             #follow this conversion to get an array form\n",
    "                                               #\n",
    "\n",
    "\n",
    "X_val_0=tfidf_vectorizer.transform(title_validation)   #use the vectorizer that is fitted to the training set to transform the input \n",
    "                                                       #from the validation set. the result will be a numeric vector of shape (m_val,n)\n",
    "                                                       #where m_val is the number of entries in the validation set and \n",
    "                                                       #n is the number of features which is the same as the number of features \n",
    "                                                       # used for training\n",
    "\n",
    "X_val_1=X_val_0.toarray()\n",
    "\n",
    "X_val_1.shape"
   ]
  },
  {
   "cell_type": "code",
   "execution_count": 68,
   "id": "87daccf9-fa14-471f-91e5-b6b8fb6c2d0a",
   "metadata": {},
   "outputs": [
    {
     "name": "stdout",
     "output_type": "stream",
     "text": [
      "\u001b[1m18/18\u001b[0m \u001b[32m━━━━━━━━━━━━━━━━━━━━\u001b[0m\u001b[37m\u001b[0m \u001b[1m0s\u001b[0m 4ms/step\n"
     ]
    }
   ],
   "source": [
    "#predictions in text format from the trained dense model named model\n",
    "\n",
    "PZ_val_prediction=from_pred_and_dictionary_to_labels(X_val_1,model_2,one_hot_encode_product_category)  #use the aforementioned function\n",
    "                                                       #to predict the product category labels for the validation set using the \n",
    "                                                       #validation title. This function also receives as input the dictionary with \n",
    "                                                       #the labels and their one hot encoding in order to convert the predictions back to text"
   ]
  },
  {
   "cell_type": "code",
   "execution_count": 70,
   "id": "7ed13761-8991-469e-b4ce-5b5d9a5edce8",
   "metadata": {},
   "outputs": [
    {
     "data": {
      "text/plain": [
       "565"
      ]
     },
     "execution_count": 70,
     "metadata": {},
     "output_type": "execute_result"
    }
   ],
   "source": [
    "#PZ_val_prediction\n",
    "\n",
    "len(HZ_val_prediction)\n",
    "len(PZ_val_prediction)"
   ]
  },
  {
   "cell_type": "code",
   "execution_count": 72,
   "id": "e38bd683-d5b7-4c5b-ae1e-9a46f72a730f",
   "metadata": {},
   "outputs": [],
   "source": [
    "#turn the predictions into columns of a new dataframe and save them to a csv file\n",
    "predicted_data_final={\n",
    "'hazard-category': HZ_val_prediction,\n",
    "'product-category': PZ_val_prediction\n",
    "    \n",
    "}\n",
    "df_final=pd.DataFrame(predicted_data_final)\n",
    "\n",
    "# Save the DataFrame to a CSV file\n",
    "df_final.to_csv('st1_title_dense.csv', index=False)\n"
   ]
  },
  {
   "cell_type": "code",
   "execution_count": null,
   "id": "86e7d046-df60-4f86-ab7e-f7944c0a5c36",
   "metadata": {},
   "outputs": [],
   "source": []
  }
 ],
 "metadata": {
  "kernelspec": {
   "display_name": "Python 3 (ipykernel)",
   "language": "python",
   "name": "python3"
  },
  "language_info": {
   "codemirror_mode": {
    "name": "ipython",
    "version": 3
   },
   "file_extension": ".py",
   "mimetype": "text/x-python",
   "name": "python",
   "nbconvert_exporter": "python",
   "pygments_lexer": "ipython3",
   "version": "3.11.5"
  }
 },
 "nbformat": 4,
 "nbformat_minor": 5
}
