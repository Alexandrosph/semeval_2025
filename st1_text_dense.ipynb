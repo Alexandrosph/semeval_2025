{
 "cells": [
  {
   "cell_type": "code",
   "execution_count": 1,
   "id": "8ebd995c-136d-48b2-a577-946e7ba5b80f",
   "metadata": {},
   "outputs": [],
   "source": [
    "#import all the necessary libraries\n",
    "import pandas as pd \n",
    "import numpy as  np\n",
    "import re\n",
    "\n",
    "from sklearn.feature_extraction.text import TfidfVectorizer\n",
    "\n",
    "#import all the necessary libraries to build a neural network classifier from tensorflow\n",
    "\n",
    "import tensorflow as tf\n",
    "from tensorflow.keras.models import Sequential                   \n",
    "from tensorflow.keras.layers import Dense                        #import fully connected neural net layers\n",
    "from tensorflow.keras.optimizers import Adam                     #choose adam as the optimization algorithm\n",
    "from tensorflow.keras.losses import CategoricalCrossentropy      #cost function needed for softmax classification if the labels are \n",
    "                                                                 #one hot encoded\n",
    "\n",
    "from tensorflow.keras.regularizers import l2                     #add regularization in order to avoid overfitting \n",
    "\n",
    "from sklearn.model_selection import train_test_split             #to split the training set into train and test set \n",
    "\n",
    "from sklearn.metrics import confusion_matrix, classification_report  #to proceed with error analysis on our predictions\n",
    "\n",
    "\n",
    "import seaborn as sns                                                 #to visualize confusion matrices as a heatmap\n",
    "import matplotlib.pyplot as plt\n",
    "\n",
    "\n",
    "from tensorflow.keras.layers import LSTM, Dropout              #import long-short term memory neural net layers\n",
    "                                                               #and dropout regularization layers"
   ]
  },
  {
   "cell_type": "code",
   "execution_count": null,
   "id": "3cd3cc9c-db8e-4de5-b125-4c98ec4b31cb",
   "metadata": {},
   "outputs": [],
   "source": []
  },
  {
   "cell_type": "code",
   "execution_count": 4,
   "id": "257be34f-b20e-4530-a652-69290be457a3",
   "metadata": {},
   "outputs": [],
   "source": [
    "def  vectorize_string_csv_column_TF_idf(string_column):  \n",
    "                                                #create a function that receives a column of strings from a csv file \n",
    "                                                  #and converts each entry into a unique tfidf vector depending on the \n",
    "                                                  #unique vocabulary\n",
    "                                                   \n",
    "                                                 #necessary to convert a text input into a numeric vector to be used \n",
    "                                                 #as input to the classifier\n",
    "\n",
    "    \n",
    "    tfidf_vectorizer = TfidfVectorizer()  \n",
    "                                      #create a TF_idf_vectorizer model that will receive the entire csv column\n",
    "                                      #and will eventually turn each entry into a numeric vector\n",
    "                                      #the length of each vector will be the number of the unique words in the vocabulary\n",
    "                                      #if this length=N the resulting vectors for each entry will be of dimension (N,)\n",
    "    \n",
    "    tfidf_matrix = tfidf_vectorizer.fit_transform(string_column)  \n",
    "                                                    #apply the created model to the column title of the csv\n",
    "\n",
    "\n",
    "    tfidf_vectors = tfidf_matrix.toarray()          #each entry of the tfidf_vectors is a numeric vector\n",
    "                                                    #corresponding to a title entry\n",
    "                                                    #convert it to an array format for ease of handling\n",
    "\n",
    "    Vocabulary=tfidf_vectorizer.get_feature_names_out()  #export the unique vocabulary out of the created vectorizer model\n",
    "\n",
    "    return tfidf_vectors, Vocabulary   "
   ]
  },
  {
   "cell_type": "code",
   "execution_count": null,
   "id": "51283f3e-482f-4c32-8d3a-9c060cf5e1b4",
   "metadata": {},
   "outputs": [],
   "source": []
  },
  {
   "cell_type": "code",
   "execution_count": 7,
   "id": "b1eed9b3-c457-422a-b05a-e0f6e3cfd4d9",
   "metadata": {},
   "outputs": [],
   "source": [
    "#create a function that finds all the unique labels in a column \n",
    "def find_unique_column_labels(column):\n",
    "     \n",
    "    unique_labels_list=[]               #create a list that will contain all the unique labels found in the input column\n",
    "\n",
    "    for i in column : #search the entire column\n",
    "        if i not in unique_labels_list:   #if the element i is not found in the unique list \n",
    "            unique_labels_list.append(i)  #append it to the list\n",
    "    \n",
    "    return  unique_labels_list "
   ]
  },
  {
   "cell_type": "code",
   "execution_count": null,
   "id": "075f49f9-420e-4fbe-bad6-5ebe759b28b8",
   "metadata": {},
   "outputs": [],
   "source": []
  },
  {
   "cell_type": "code",
   "execution_count": 10,
   "id": "89be652b-8d26-4383-84c9-dc910cd18c57",
   "metadata": {},
   "outputs": [],
   "source": [
    "def one_hot_encode_labels(unique_labels_of_a_column):\n",
    "    #create a dictionary for these categories that coresponds each one into a one hot numpy vector\n",
    "    #this is necessary in order to use a softmax classifier \n",
    "\n",
    "    number_of_classes=len(unique_labels_of_a_column)  #find the number of classes/possible labels from the vector that contains the unique labels\n",
    "\n",
    "                                               #create a numpy I matrix I lxl where l is the number of classes \n",
    "                                               #each row of the I matrix will correspond to a one hot encoding for each label\n",
    "    I=np.eye(number_of_classes)\n",
    "\n",
    "    #create a dictionary to correspond each class name with it's one hot encoded label\n",
    "\n",
    "    dict_labels={} #initialize an empty dictionary where the keys will be the labels and the values will be their one hot encoding\n",
    "\n",
    "\n",
    "    for i in range(number_of_classes):\n",
    "        dict_labels[unique_labels_of_a_column[i]]=I[i,:]\n",
    "\n",
    "    return dict_labels"
   ]
  },
  {
   "cell_type": "code",
   "execution_count": null,
   "id": "83b4f65a-6f32-41b5-b4df-7b7901964fb6",
   "metadata": {},
   "outputs": [],
   "source": []
  },
  {
   "cell_type": "code",
   "execution_count": 13,
   "id": "58b45ea2-7c12-4920-8660-dcebe2c150df",
   "metadata": {},
   "outputs": [],
   "source": [
    "def create_Y_label(initial_label_column,dict_labels):\n",
    "    #create the Y part of the dataset by receiving  a column  and the dict_labels corresponding to that column\n",
    "\n",
    "\n",
    "\n",
    "    #len(dict_labels['biological'])\n",
    "\n",
    "    Y1={}   #initialize an empty dictionary\n",
    "    count=0 #and a count variable\n",
    "    for i in initial_label_column:    #search through the hazard_category column of the data frame\n",
    "        for j in dict_labels.keys():  #and through all the keys of the labels dictionary with keys all the unique labels \n",
    "                                  #and values their one hot encoded representation\n",
    "            if i==j:                   #if you find a match\n",
    "                Y1[count]=dict_labels[j]   #assign the category with it's one hot encoding\n",
    "                count+=1\n",
    "    #Y\n",
    "    #now the dictionary above should be turned into a numpy matrix with its elements being column vectors\n",
    "\n",
    "    # Convert dictionary values to a numpy matrix\n",
    "    matrix = np.array([v for v in Y1.values()]).T\n",
    "\n",
    "    matrix.shape #Nxm format\n",
    "    return matrix    "
   ]
  },
  {
   "cell_type": "code",
   "execution_count": null,
   "id": "37f4fea2-2138-4402-a8cf-550222971aca",
   "metadata": {},
   "outputs": [],
   "source": []
  },
  {
   "cell_type": "code",
   "execution_count": 16,
   "id": "9cc6129d-668f-4151-be01-b8ae255dd8d2",
   "metadata": {},
   "outputs": [],
   "source": [
    "def train_and_eval_dense_nn(X_train,Y_train,X_test,Y_test,hu_1,hu_2,number_of_classes,a_epochs,a_batch_size):\n",
    "    #define a function that trains a fully connected dense neural net to fit the pre-processed data\n",
    "    #X_train are the training data\n",
    "    #Y_train are the training labels \n",
    "    #X_test,Y_test are the data we are going to use for validation\n",
    "    #hu_1 is the number of hidden units in layer 1\n",
    "    #hu_2 is the number of hidden units in layer 2\n",
    "    #number of classes is self explanatory and it is required for the softmax classification layer\n",
    "    #a_epochs is the number of training epochs \n",
    "    #and a_batch size is the number of batches that we use to split the training data\n",
    "    #the activation function is chosen as the relu activation f(z)=max(z,0)\n",
    "    #and the regularization is set to zero after manual tuning\n",
    "    \n",
    "    model = Sequential([                                          #model architecture    \n",
    "    Dense(hu_1, activation='relu', input_shape=(X_train.shape[1],),kernel_regularizer=l2(0)),  \n",
    "    Dense(hu_2, activation='relu',kernel_regularizer=l2(0)),                      \n",
    "    Dense(number_of_classes, activation='softmax',kernel_regularizer=l2(0))         \n",
    "    ])\n",
    "\n",
    "    # Compile the model\n",
    "    model.compile(optimizer=Adam(learning_rate=0.001),           #for training the model the Adam optimization algorithm has been chosen \n",
    "                                                                  #with initial learning rate=0.001\n",
    "        loss=CategoricalCrossentropy(),                            #since the output labels are one-hot encoded we have chosen the \n",
    "                                                                 #Categorical cross entropy function as a loss function\n",
    "        metrics=['accuracy'])\n",
    "\n",
    "    model.fit(     #the method fit is used to actually train the model using the X_train and Y_train \n",
    "    X_train, Y_train,    #as training data and X_test,Y_test as validation data \n",
    "    validation_data=(X_test, Y_test),\n",
    "    epochs=a_epochs,          #the number of epochs chosen for the training are 30\n",
    "    batch_size=a_batch_size,     #the training itself is mini batch gradient-descent with adam and the training data -set is split into \n",
    "    verbose=1          #32 batches    \n",
    "    )\n",
    "\n",
    "\n",
    "    test_loss, test_accuracy = model.evaluate(X_test, Y_test, verbose=1)   #we now evaluate the models performance on the\n",
    "                                                                       #X_test and Y_test data for which we now the labels \n",
    "                                                                       #but these labels are unkown to the model \n",
    "                                                                       #using only the input data X_test it predicts the output \n",
    "                                                                       #labels and then compares them with the actual Y_test labels\n",
    "\n",
    "    print(\"Test Loss:\", test_loss)                           #depict the final value of the cost function for the test set                                     \n",
    "    print(\"Test Accuracy:\", test_accuracy)                  #depict the accuracy of predictions in the test set\n",
    "\n",
    "\n",
    "\n",
    "    \n",
    "    return model"
   ]
  },
  {
   "cell_type": "code",
   "execution_count": null,
   "id": "6030abde-ae3c-49a6-87f3-9eabbfecb4ad",
   "metadata": {},
   "outputs": [],
   "source": []
  },
  {
   "cell_type": "code",
   "execution_count": 18,
   "id": "fbb3d2ea-0951-479b-b18a-a3777fbf2167",
   "metadata": {},
   "outputs": [],
   "source": [
    "def create_heatmap_and_error_report(model,X_test,Y_test,num_of_classes):  #input the X_test \n",
    "                                                                    #and Y_test\n",
    "                                                                    #make predictions on X_test with the model\n",
    "                                                                    #compare the model predictions with \n",
    "                                                                    #the actual Y_test and create an error analysis\n",
    "\n",
    "    \n",
    "    Y_predict_initial=model.predict(X_test) #we predict the model output for the X_test \n",
    "        #and we are going to compare with the actual lables from Y_test\n",
    "\n",
    "    #Each entry y in Y_predict_initial is a vector of  outputs= number of classes, containing the probabilities that show \n",
    "    #how likely it is for the model to assign an entry x of x_test to a specific class.\n",
    "    #For the entry x with prediction y if y[0] is the highest amongst the elements of y, x will be assigned to \n",
    "    #class 0. If y[1] is the highest then x will be assigned to class_1 and so on\n",
    "\n",
    "    #As a result, we need to find the index of  maximum element of each y in Y_predict \n",
    "    #that will show us in which class x corresponds to:\n",
    "    Y_intermediate = np.argmax(Y_predict_initial, axis=1) #find the index of the maximum element for each y in Y_predict_initial\n",
    "    \n",
    "    #we are also going to convert Y_test from a one hot encoding to \n",
    "    #the number of class this one hot encoding represents and compare it with \n",
    "    #the predicted class stored in Y_intermediate\n",
    "\n",
    "    Y_true = np.argmax(Y_test, axis=1)  #due to the fact that we have a one hot encoding, finding the index of the max \n",
    "                                    #element will lead directly to the number of class it represents\n",
    "\n",
    "    #\n",
    "    #we are going to find out where Y_true matches our prediction in Y_intermediate \n",
    "    #and we are going to display a confusion matrix of the true vs the prediction\n",
    "\n",
    "    \n",
    "    conf_mat=confusion_matrix(Y_true,Y_intermediate)\n",
    "    \n",
    "\n",
    "    sns.heatmap(conf_mat,annot=True, fmt='d', cmap='Blues')\n",
    "    plt.xlabel('Predicted Class')\n",
    "    plt.ylabel('True Class')\n",
    "    plt.title('Confusion Matrix')\n",
    "    plt.show()\n",
    "\n",
    "    #the classification report is applied to the test set which is a random split from the entire training set\n",
    "    #as a result it may not include the entire number of classes and we will get the error report based on the \n",
    "    #classes stored in the confusion matrix and the test set\n",
    "    report = classification_report(Y_true, Y_intermediate, target_names=[f\"Class {i}\" for i in range(conf_mat.shape[0])]) \n",
    "    print(\"\\n\",report)\n",
    "\n",
    "    return 1"
   ]
  },
  {
   "cell_type": "code",
   "execution_count": null,
   "id": "d5e48cdd-35ca-4935-8174-bbfb969a875c",
   "metadata": {},
   "outputs": [],
   "source": []
  },
  {
   "cell_type": "code",
   "execution_count": 20,
   "id": "d38dcfe8-0ea7-46f9-b37d-11d438c66015",
   "metadata": {},
   "outputs": [],
   "source": [
    "#make a function that inputs data X\n",
    "#the model that makes predictions and the \n",
    "#dictionary with the labels and their one hot encoding. \n",
    "#It computes the numeric predictions for X and turns them into the text of the label \n",
    "#they correspond to\n",
    "\n",
    "def from_pred_and_dictionary_to_labels(X,model,one_hot_dictionary):\n",
    "    \n",
    "        #predicted output\n",
    "    Y_pr=model.predict(X)\n",
    "\n",
    "        #create a new dictionary with the key being the index/label of the one_hot_dictionary\n",
    "        #and the value of this new  dictionary being the phrase of the one hot encoding \n",
    "\n",
    "    new_dict={}\n",
    "\n",
    "    for key,value in one_hot_dictionary.items():   \n",
    "        convert_one_hot_encode_to_number=np.argmax(value)    #get the number representation of the one hot encoding\n",
    "        label=key                                            #get the phrase of the one hot encoding \n",
    "        new_dict[convert_one_hot_encode_to_number]=label     #store them as number-> phrase\n",
    "\n",
    "    #use the newly created dictionary to map the predictions into the labels\n",
    "    predictions_text_format=[]\n",
    "\n",
    "    for i in Y_pr:\n",
    "        chosen_label=np.argmax(i) #loop through the predictions of the model and choose to which label the prediction is assigned\n",
    "        predictions_text_format.append(new_dict[chosen_label]) #get the phrase corresponding to that label and append it to a list\n",
    "        \n",
    "    return predictions_text_format"
   ]
  },
  {
   "cell_type": "code",
   "execution_count": null,
   "id": "3b7a4d3b-9cfc-43f7-b8aa-6139085e0743",
   "metadata": {},
   "outputs": [],
   "source": []
  },
  {
   "cell_type": "code",
   "execution_count": 23,
   "id": "fe85558c-a3de-40d5-8823-d1aca2e275bd",
   "metadata": {},
   "outputs": [],
   "source": [
    "#load the csv incidents_train into a data frame\n",
    "\n",
    "df=pd.read_csv('incidents_train.csv')\n",
    "#df.head()\n",
    "\n",
    "#isolate the text category which is to be used as the input X to a classifier\n",
    "text=df['text']"
   ]
  },
  {
   "cell_type": "code",
   "execution_count": null,
   "id": "b0090e0c-04e9-47e8-abc6-ce9a15ec93cc",
   "metadata": {},
   "outputs": [],
   "source": []
  },
  {
   "cell_type": "code",
   "execution_count": 26,
   "id": "e8bcb6c7-edad-4a61-944b-6de15552289d",
   "metadata": {},
   "outputs": [],
   "source": [
    "X,unique_text_voc=vectorize_string_csv_column_TF_idf(text)\n",
    "#X.shape"
   ]
  },
  {
   "cell_type": "code",
   "execution_count": null,
   "id": "4d63ec23-1723-4b85-b8f5-0cace014cbb5",
   "metadata": {},
   "outputs": [],
   "source": []
  },
  {
   "cell_type": "code",
   "execution_count": 29,
   "id": "8ec56f00-7caf-4e37-9e84-ef3b4f84bf62",
   "metadata": {},
   "outputs": [
    {
     "data": {
      "text/plain": [
       "(5082, 10)"
      ]
     },
     "execution_count": 29,
     "metadata": {},
     "output_type": "execute_result"
    }
   ],
   "source": [
    "hazard_category=df['hazard-category']  #get the hazard category for the data frame refering to the training set\n",
    "unique_hazard_category_labels=find_unique_column_labels(hazard_category) #find the unique labels of product category\n",
    "\n",
    "\n",
    "one_hot_encode_hazard_category=one_hot_encode_labels(unique_hazard_category_labels)#one hot encode these labels and get a \n",
    "#dictionary with the key being the label and the value being its one hot encoding\n",
    "#one_hot_encode_hazard_category\n",
    "\n",
    "Y_hazard_category_transposed=create_Y_label(hazard_category,one_hot_encode_hazard_category)\n",
    "#create the Y part of the data-set but in a transposed format\n",
    "\n",
    "Y_hazard_category=Y_hazard_category_transposed.T\n",
    "Y_hazard_category.shape"
   ]
  },
  {
   "cell_type": "code",
   "execution_count": 31,
   "id": "a8c57762-7268-43ae-83f8-d26b2391092e",
   "metadata": {},
   "outputs": [
    {
     "data": {
      "text/plain": [
       "{'biological': array([1., 0., 0., 0., 0., 0., 0., 0., 0., 0.]),\n",
       " 'foreign bodies': array([0., 1., 0., 0., 0., 0., 0., 0., 0., 0.]),\n",
       " 'chemical': array([0., 0., 1., 0., 0., 0., 0., 0., 0., 0.]),\n",
       " 'fraud': array([0., 0., 0., 1., 0., 0., 0., 0., 0., 0.]),\n",
       " 'organoleptic aspects': array([0., 0., 0., 0., 1., 0., 0., 0., 0., 0.]),\n",
       " 'allergens': array([0., 0., 0., 0., 0., 1., 0., 0., 0., 0.]),\n",
       " 'packaging defect': array([0., 0., 0., 0., 0., 0., 1., 0., 0., 0.]),\n",
       " 'other hazard': array([0., 0., 0., 0., 0., 0., 0., 1., 0., 0.]),\n",
       " 'food additives and flavourings': array([0., 0., 0., 0., 0., 0., 0., 0., 1., 0.]),\n",
       " 'migration': array([0., 0., 0., 0., 0., 0., 0., 0., 0., 1.])}"
      ]
     },
     "execution_count": 31,
     "metadata": {},
     "output_type": "execute_result"
    }
   ],
   "source": [
    "one_hot_encode_hazard_category"
   ]
  },
  {
   "cell_type": "code",
   "execution_count": 33,
   "id": "184aacae-128f-4f84-950b-dab8cba25fa6",
   "metadata": {},
   "outputs": [],
   "source": [
    "#split the data intro train and test set\n",
    "#using the processed title data as X\n",
    "#and hazard category as Y\n",
    "X_train, X_test, Y_hazard_category_train, Y_hazard_category_test = train_test_split(X, Y_hazard_category, test_size=0.2, random_state=42)\n"
   ]
  },
  {
   "cell_type": "code",
   "execution_count": 35,
   "id": "dbe7b439-9f8e-4d83-a56b-9572a4859e82",
   "metadata": {},
   "outputs": [
    {
     "name": "stderr",
     "output_type": "stream",
     "text": [
      "C:\\Users\\USER\\anaconda3\\Lib\\site-packages\\keras\\src\\layers\\core\\dense.py:87: UserWarning: Do not pass an `input_shape`/`input_dim` argument to a layer. When using Sequential models, prefer using an `Input(shape)` object as the first layer in the model instead.\n",
      "  super().__init__(activity_regularizer=activity_regularizer, **kwargs)\n"
     ]
    },
    {
     "name": "stdout",
     "output_type": "stream",
     "text": [
      "Epoch 1/3\n",
      "\u001b[1m128/128\u001b[0m \u001b[32m━━━━━━━━━━━━━━━━━━━━\u001b[0m\u001b[37m\u001b[0m \u001b[1m17s\u001b[0m 121ms/step - accuracy: 0.6160 - loss: 1.4800 - val_accuracy: 0.8102 - val_loss: 0.6053\n",
      "Epoch 2/3\n",
      "\u001b[1m128/128\u001b[0m \u001b[32m━━━━━━━━━━━━━━━━━━━━\u001b[0m\u001b[37m\u001b[0m \u001b[1m15s\u001b[0m 116ms/step - accuracy: 0.9035 - loss: 0.3589 - val_accuracy: 0.8791 - val_loss: 0.4153\n",
      "Epoch 3/3\n",
      "\u001b[1m128/128\u001b[0m \u001b[32m━━━━━━━━━━━━━━━━━━━━\u001b[0m\u001b[37m\u001b[0m \u001b[1m15s\u001b[0m 116ms/step - accuracy: 0.9696 - loss: 0.1310 - val_accuracy: 0.8869 - val_loss: 0.3929\n",
      "\u001b[1m32/32\u001b[0m \u001b[32m━━━━━━━━━━━━━━━━━━━━\u001b[0m\u001b[37m\u001b[0m \u001b[1m0s\u001b[0m 11ms/step - accuracy: 0.8849 - loss: 0.4435\n",
      "Test Loss: 0.3929406702518463\n",
      "Test Accuracy: 0.886922299861908\n"
     ]
    }
   ],
   "source": [
    "model=train_and_eval_dense_nn(X_train,Y_hazard_category_train,X_test,Y_hazard_category_test,256,120,10,3,32)"
   ]
  },
  {
   "cell_type": "code",
   "execution_count": 37,
   "id": "9c291a55-bb84-4d20-baac-91c26da85073",
   "metadata": {},
   "outputs": [
    {
     "name": "stdout",
     "output_type": "stream",
     "text": [
      "\u001b[1m32/32\u001b[0m \u001b[32m━━━━━━━━━━━━━━━━━━━━\u001b[0m\u001b[37m\u001b[0m \u001b[1m0s\u001b[0m 11ms/step\n"
     ]
    },
    {
     "data": {
      "image/png": "[encoded data removed]",
      "text/plain": [
       "<Figure size 640x480 with 2 Axes>"
      ]
     },
     "metadata": {},
     "output_type": "display_data"
    },
    {
     "name": "stdout",
     "output_type": "stream",
     "text": [
      "\n",
      "               precision    recall  f1-score   support\n",
      "\n",
      "     Class 0       0.95      0.97      0.96       339\n",
      "     Class 1       0.88      0.94      0.91       111\n",
      "     Class 2       0.82      0.82      0.82        68\n",
      "     Class 3       0.58      0.69      0.63        68\n",
      "     Class 4       0.40      0.20      0.27        10\n",
      "     Class 5       0.94      0.93      0.93       377\n",
      "     Class 6       1.00      0.09      0.17        11\n",
      "     Class 7       0.56      0.56      0.56        27\n",
      "     Class 8       0.00      0.00      0.00         5\n",
      "     Class 9       0.00      0.00      0.00         1\n",
      "\n",
      "    accuracy                           0.89      1017\n",
      "   macro avg       0.61      0.52      0.52      1017\n",
      "weighted avg       0.88      0.89      0.88      1017\n",
      "\n"
     ]
    },
    {
     "name": "stderr",
     "output_type": "stream",
     "text": [
      "C:\\Users\\USER\\anaconda3\\Lib\\site-packages\\sklearn\\metrics\\_classification.py:1531: UndefinedMetricWarning: Precision is ill-defined and being set to 0.0 in labels with no predicted samples. Use `zero_division` parameter to control this behavior.\n",
      "  _warn_prf(average, modifier, f\"{metric.capitalize()} is\", len(result))\n",
      "C:\\Users\\USER\\anaconda3\\Lib\\site-packages\\sklearn\\metrics\\_classification.py:1531: UndefinedMetricWarning: Precision is ill-defined and being set to 0.0 in labels with no predicted samples. Use `zero_division` parameter to control this behavior.\n",
      "  _warn_prf(average, modifier, f\"{metric.capitalize()} is\", len(result))\n",
      "C:\\Users\\USER\\anaconda3\\Lib\\site-packages\\sklearn\\metrics\\_classification.py:1531: UndefinedMetricWarning: Precision is ill-defined and being set to 0.0 in labels with no predicted samples. Use `zero_division` parameter to control this behavior.\n",
      "  _warn_prf(average, modifier, f\"{metric.capitalize()} is\", len(result))\n"
     ]
    },
    {
     "data": {
      "text/plain": [
       "1"
      ]
     },
     "execution_count": 37,
     "metadata": {},
     "output_type": "execute_result"
    }
   ],
   "source": [
    "create_heatmap_and_error_report(model,X_test,Y_hazard_category_test,1)"
   ]
  },
  {
   "cell_type": "code",
   "execution_count": 39,
   "id": "ccf0bcf4-ae1e-4d80-bcb7-436384448751",
   "metadata": {},
   "outputs": [],
   "source": [
    "#read the validation_file for hazard category and create a prediction vector\n",
    "\n",
    "#load the csv incidents_val into a data frame\n",
    "\n",
    "df_validation=pd.read_csv('incidents_val.csv')\n",
    "#df.head()\n",
    "\n",
    "#isolate the text category which is to be used as the input X to a classifier\n",
    "text_validation=df_validation['text']"
   ]
  },
  {
   "cell_type": "code",
   "execution_count": null,
   "id": "db9ae9cd-1e6f-42cc-939d-b39d86db2f14",
   "metadata": {},
   "outputs": [],
   "source": []
  },
  {
   "cell_type": "code",
   "execution_count": 42,
   "id": "4e7b84e6-bb59-467a-8d54-162d935f6ed0",
   "metadata": {},
   "outputs": [
    {
     "data": {
      "text/plain": [
       "(565, 41409)"
      ]
     },
     "execution_count": 42,
     "metadata": {},
     "output_type": "execute_result"
    }
   ],
   "source": [
    "#follow the same steps as before to vectorize the text_validation \n",
    "#into a form that can be loaded into the trained model\n",
    "\n",
    "#to avoid having different number of features for the train set and the validation set with the tfidf vectorizer we are \n",
    "#going to use the tfidf vectorizer fitted for the train set to the validation set \n",
    "#the function we created previously will not suffise because it will create a unique representation based on the validation set \n",
    "#with number of features different than the ones in the training set\n",
    "\n",
    "tfidf_vectorizer = TfidfVectorizer()  #create a tfidfvectorizer object\n",
    "\n",
    "\n",
    "tfidf_vectorizer.fit(text)        #fit it for the text of the training set \n",
    "                                                   \n",
    "X_center=tfidf_vectorizer.transform(text)      #transform the title of the training set into a format where each entry is a \n",
    "                                                #numeric vector of shape (m,n) where m \n",
    "                                                #is the number of examples in the given set and n is the number of features\n",
    "\n",
    "X_center_format=X_center.toarray()             #follow this conversion to get an array form\n",
    "                                               #\n",
    "\n",
    "\n",
    "X_val_0=tfidf_vectorizer.transform(text_validation)   #use the vectorizer that is fitted to the training set to transform the input \n",
    "                                                       #from the validation set. the result will be a numeric vector of shape (m_val,n)\n",
    "                                                       #where m_val is the number of entries in the validation set and \n",
    "                                                       #n is the number of features which is the same as the number of features \n",
    "                                                       # used for training\n",
    "\n",
    "X_val_1=X_val_0.toarray()\n",
    "\n",
    "X_val_1.shape"
   ]
  },
  {
   "cell_type": "code",
   "execution_count": null,
   "id": "b4ded164-65d4-4ee3-922d-20b341fa314a",
   "metadata": {},
   "outputs": [],
   "source": []
  },
  {
   "cell_type": "code",
   "execution_count": 44,
   "id": "b029bc1c-9064-4cb4-a4a6-5e6ab99efdbd",
   "metadata": {},
   "outputs": [
    {
     "name": "stdout",
     "output_type": "stream",
     "text": [
      "\u001b[1m18/18\u001b[0m \u001b[32m━━━━━━━━━━━━━━━━━━━━\u001b[0m\u001b[37m\u001b[0m \u001b[1m0s\u001b[0m 9ms/step \n"
     ]
    }
   ],
   "source": [
    "#predictions in text format from the trained dense model named model\n",
    "\n",
    "HZ_val_prediction=from_pred_and_dictionary_to_labels(X_val_1,model,one_hot_encode_hazard_category)  #use the aforementioned function\n",
    "                                                       #to predict the Hazard category labels for the validation set using the \n",
    "                                                       #validation title. This function also receives as input the dictionary with \n",
    "                                                       #the labels and their one hot encoding in order to convert the predictions back to text"
   ]
  },
  {
   "cell_type": "code",
   "execution_count": 45,
   "id": "acce04ed-0659-433f-ac92-0c59610d5e6e",
   "metadata": {},
   "outputs": [],
   "source": [
    "#HZ_val_prediction"
   ]
  },
  {
   "cell_type": "code",
   "execution_count": 49,
   "id": "837d9ec1-cf93-42d1-bc00-e570a2e13b86",
   "metadata": {},
   "outputs": [],
   "source": [
    "#now we are going to follow the exact same procedure and train a seperate model to predict \n",
    "#the product category first for the training set and then for the validation set\n"
   ]
  },
  {
   "cell_type": "code",
   "execution_count": 51,
   "id": "69cf1482-b6b0-44ae-9918-caf4d50e65de",
   "metadata": {},
   "outputs": [
    {
     "data": {
      "text/plain": [
       "(5082, 22)"
      ]
     },
     "execution_count": 51,
     "metadata": {},
     "output_type": "execute_result"
    }
   ],
   "source": [
    "product_category=df['product-category'] #get the product category for the data frame refering to the training set\n",
    "unique_product_category_labels=find_unique_column_labels(product_category) #find the unique labels of product category\n",
    "\n",
    "one_hot_encode_product_category=one_hot_encode_labels(unique_product_category_labels) #one hot encode these labels and get a \n",
    "#dictionary with the key being the label and the value being its one hot encoding\n",
    "\n",
    "\n",
    "Y_product_category_transposed=create_Y_label(product_category,one_hot_encode_product_category)\n",
    "#create the Y part of the data set\n",
    "\n",
    "Y_product_category=Y_product_category_transposed.T\n",
    "Y_product_category.shape"
   ]
  },
  {
   "cell_type": "code",
   "execution_count": 53,
   "id": "96b6ab72-305a-42c5-8e55-5990b23e8065",
   "metadata": {},
   "outputs": [],
   "source": [
    "#split the data intro train and test set\n",
    "#using the processed text data as X\n",
    "#and product category as Y\n",
    "X_train, X_test, Y_product_category_train, Y_product_category_test = train_test_split(X, Y_product_category, test_size=0.2, random_state=42)"
   ]
  },
  {
   "cell_type": "code",
   "execution_count": null,
   "id": "446565fe-1465-47e5-b1ff-7986435ef467",
   "metadata": {},
   "outputs": [],
   "source": []
  },
  {
   "cell_type": "code",
   "execution_count": 56,
   "id": "57d82a2f-e53e-40a7-9138-1fb63615386c",
   "metadata": {},
   "outputs": [
    {
     "name": "stderr",
     "output_type": "stream",
     "text": [
      "C:\\Users\\USER\\anaconda3\\Lib\\site-packages\\keras\\src\\layers\\core\\dense.py:87: UserWarning: Do not pass an `input_shape`/`input_dim` argument to a layer. When using Sequential models, prefer using an `Input(shape)` object as the first layer in the model instead.\n",
      "  super().__init__(activity_regularizer=activity_regularizer, **kwargs)\n"
     ]
    },
    {
     "name": "stdout",
     "output_type": "stream",
     "text": [
      "Epoch 1/4\n",
      "\u001b[1m128/128\u001b[0m \u001b[32m━━━━━━━━━━━━━━━━━━━━\u001b[0m\u001b[37m\u001b[0m \u001b[1m17s\u001b[0m 123ms/step - accuracy: 0.3056 - loss: 2.5230 - val_accuracy: 0.4700 - val_loss: 1.7543\n",
      "Epoch 2/4\n",
      "\u001b[1m128/128\u001b[0m \u001b[32m━━━━━━━━━━━━━━━━━━━━\u001b[0m\u001b[37m\u001b[0m \u001b[1m15s\u001b[0m 114ms/step - accuracy: 0.6413 - loss: 1.2872 - val_accuracy: 0.6618 - val_loss: 1.2060\n",
      "Epoch 3/4\n",
      "\u001b[1m128/128\u001b[0m \u001b[32m━━━━━━━━━━━━━━━━━━━━\u001b[0m\u001b[37m\u001b[0m \u001b[1m15s\u001b[0m 114ms/step - accuracy: 0.9144 - loss: 0.4198 - val_accuracy: 0.7227 - val_loss: 1.0621\n",
      "Epoch 4/4\n",
      "\u001b[1m128/128\u001b[0m \u001b[32m━━━━━━━━━━━━━━━━━━━━\u001b[0m\u001b[37m\u001b[0m \u001b[1m15s\u001b[0m 115ms/step - accuracy: 0.9709 - loss: 0.1483 - val_accuracy: 0.7217 - val_loss: 1.0654\n",
      "\u001b[1m32/32\u001b[0m \u001b[32m━━━━━━━━━━━━━━━━━━━━\u001b[0m\u001b[37m\u001b[0m \u001b[1m0s\u001b[0m 11ms/step - accuracy: 0.7150 - loss: 1.1052\n",
      "Test Loss: 1.0654250383377075\n",
      "Test Accuracy: 0.7217305898666382\n"
     ]
    }
   ],
   "source": [
    "#train a different dense net than before in order to predict the product-category column of the data frame\n",
    "#22 is the number of unique categories for product-category\n",
    "model_2=train_and_eval_dense_nn(X_train,Y_product_category_train,X_test,Y_product_category_test,256,128,22,4,32)"
   ]
  },
  {
   "cell_type": "code",
   "execution_count": 58,
   "id": "3ddd359b-e022-4aab-8e85-84172a9b3cd0",
   "metadata": {},
   "outputs": [
    {
     "data": {
      "text/plain": [
       "(1017, 22)"
      ]
     },
     "execution_count": 58,
     "metadata": {},
     "output_type": "execute_result"
    }
   ],
   "source": [
    "Y_product_category_test.shape"
   ]
  },
  {
   "cell_type": "code",
   "execution_count": 60,
   "id": "04e35052-0eee-4837-8600-3dd66740c126",
   "metadata": {},
   "outputs": [
    {
     "name": "stdout",
     "output_type": "stream",
     "text": [
      "\u001b[1m32/32\u001b[0m \u001b[32m━━━━━━━━━━━━━━━━━━━━\u001b[0m\u001b[37m\u001b[0m \u001b[1m0s\u001b[0m 9ms/step\n"
     ]
    },
    {
     "data": {
      "image/png": "[encoded data removed]",
      "text/plain": [
       "<Figure size 640x480 with 2 Axes>"
      ]
     },
     "metadata": {},
     "output_type": "display_data"
    },
    {
     "name": "stdout",
     "output_type": "stream",
     "text": [
      "\n",
      "               precision    recall  f1-score   support\n",
      "\n",
      "     Class 0       0.82      0.93      0.87       282\n",
      "     Class 1       0.48      0.39      0.43        90\n",
      "     Class 2       0.61      0.72      0.66       123\n",
      "     Class 3       0.57      0.40      0.47        40\n",
      "     Class 4       0.92      0.80      0.86        56\n",
      "     Class 5       0.86      0.86      0.86         7\n",
      "     Class 6       0.77      0.68      0.72       112\n",
      "     Class 7       0.50      0.33      0.40         9\n",
      "     Class 8       0.72      0.78      0.75        49\n",
      "     Class 9       0.67      0.68      0.68        63\n",
      "    Class 10       0.79      0.88      0.83        56\n",
      "    Class 11       0.47      0.53      0.50        43\n",
      "    Class 12       1.00      0.50      0.67         4\n",
      "    Class 13       0.90      0.58      0.71        31\n",
      "    Class 14       0.00      0.00      0.00         1\n",
      "    Class 15       0.88      0.62      0.73        24\n",
      "    Class 16       0.59      0.62      0.61        16\n",
      "    Class 17       0.00      0.00      0.00         1\n",
      "    Class 18       0.00      0.00      0.00         1\n",
      "    Class 19       0.00      0.00      0.00         3\n",
      "    Class 20       0.80      0.67      0.73         6\n",
      "\n",
      "    accuracy                           0.72      1017\n",
      "   macro avg       0.59      0.52      0.55      1017\n",
      "weighted avg       0.72      0.72      0.71      1017\n",
      "\n"
     ]
    },
    {
     "name": "stderr",
     "output_type": "stream",
     "text": [
      "C:\\Users\\USER\\anaconda3\\Lib\\site-packages\\sklearn\\metrics\\_classification.py:1531: UndefinedMetricWarning: Precision is ill-defined and being set to 0.0 in labels with no predicted samples. Use `zero_division` parameter to control this behavior.\n",
      "  _warn_prf(average, modifier, f\"{metric.capitalize()} is\", len(result))\n",
      "C:\\Users\\USER\\anaconda3\\Lib\\site-packages\\sklearn\\metrics\\_classification.py:1531: UndefinedMetricWarning: Precision is ill-defined and being set to 0.0 in labels with no predicted samples. Use `zero_division` parameter to control this behavior.\n",
      "  _warn_prf(average, modifier, f\"{metric.capitalize()} is\", len(result))\n",
      "C:\\Users\\USER\\anaconda3\\Lib\\site-packages\\sklearn\\metrics\\_classification.py:1531: UndefinedMetricWarning: Precision is ill-defined and being set to 0.0 in labels with no predicted samples. Use `zero_division` parameter to control this behavior.\n",
      "  _warn_prf(average, modifier, f\"{metric.capitalize()} is\", len(result))\n"
     ]
    },
    {
     "data": {
      "text/plain": [
       "1"
      ]
     },
     "execution_count": 60,
     "metadata": {},
     "output_type": "execute_result"
    }
   ],
   "source": [
    "create_heatmap_and_error_report(model_2,X_test,Y_product_category_test,Y_product_category_test.shape[1])"
   ]
  },
  {
   "cell_type": "code",
   "execution_count": null,
   "id": "5bfdf8cd-67f1-4a3c-8e55-df1e37ff1a0f",
   "metadata": {},
   "outputs": [],
   "source": []
  },
  {
   "cell_type": "code",
   "execution_count": 62,
   "id": "572f8322-2b9f-4807-9b1f-ba8f06fa6901",
   "metadata": {},
   "outputs": [
    {
     "data": {
      "text/plain": [
       "(565, 41409)"
      ]
     },
     "execution_count": 62,
     "metadata": {},
     "output_type": "execute_result"
    }
   ],
   "source": [
    "#follow the same steps as before to vectorize the text_validation \n",
    "#into a form that can be loaded into the trained model\n",
    "\n",
    "#to avoid having different number of features for the train set and the validation set with the tfidf vectorizer we are \n",
    "#going to use the tfidf vectorizer fitted for the train set to the validation set \n",
    "#the function we created previously will not suffise because it will create a unique representation based on the validation set \n",
    "#with number of features different than the ones in the training set\n",
    "\n",
    "tfidf_vectorizer = TfidfVectorizer()  #create a tfidfvectorizer object\n",
    "\n",
    "\n",
    "tfidf_vectorizer.fit(text)        #fit it for the title of the training set \n",
    "                                                   \n",
    "X_center=tfidf_vectorizer.transform(text)      #transform the title of the training set into a format where each entry is a \n",
    "                                                #numeric vector of shape (m,n) where m \n",
    "                                                #is the number of examples in the given set and n is the number of features\n",
    "\n",
    "X_center_format=X_center.toarray()             #follow this conversion to get an array form\n",
    "                                               #\n",
    "\n",
    "\n",
    "X_val_0=tfidf_vectorizer.transform(text_validation)   #use the vectorizer that is fitted to the training set to transform the input \n",
    "                                                       #from the validation set. the result will be a numeric vector of shape (m_val,n)\n",
    "                                                       #where m_val is the number of entries in the validation set and \n",
    "                                                       #n is the number of features which is the same as the number of features \n",
    "                                                       # used for training\n",
    "\n",
    "X_val_1=X_val_0.toarray()\n",
    "\n",
    "X_val_1.shape"
   ]
  },
  {
   "cell_type": "code",
   "execution_count": null,
   "id": "8cd5612b-fced-475d-b74d-f936dcd8ae07",
   "metadata": {},
   "outputs": [],
   "source": []
  },
  {
   "cell_type": "code",
   "execution_count": 64,
   "id": "c47b72c4-6381-44c4-b542-5d0a38ccea80",
   "metadata": {},
   "outputs": [
    {
     "name": "stdout",
     "output_type": "stream",
     "text": [
      "\u001b[1m18/18\u001b[0m \u001b[32m━━━━━━━━━━━━━━━━━━━━\u001b[0m\u001b[37m\u001b[0m \u001b[1m0s\u001b[0m 8ms/step\n"
     ]
    }
   ],
   "source": [
    "#predictions in text format from the trained dense model named model\n",
    "\n",
    "PZ_val_prediction=from_pred_and_dictionary_to_labels(X_val_1,model_2,one_hot_encode_product_category)  #use the aforementioned function\n",
    "                                                       #to predict the product category labels for the validation set using the \n",
    "                                                       #validation title. This function also receives as input the dictionary with \n",
    "                                                       #the labels and their one hot encoding in order to convert the predictions back to text"
   ]
  },
  {
   "cell_type": "code",
   "execution_count": 61,
   "id": "f2ca71fc-5bec-468b-87ef-e8e75c688518",
   "metadata": {},
   "outputs": [
    {
     "data": {
      "text/plain": [
       "565"
      ]
     },
     "execution_count": 61,
     "metadata": {},
     "output_type": "execute_result"
    }
   ],
   "source": [
    "#PZ_val_prediction\n",
    "\n",
    "len(HZ_val_prediction)\n",
    "len(PZ_val_prediction)"
   ]
  },
  {
   "cell_type": "code",
   "execution_count": 67,
   "id": "fc1a95dd-3dce-481d-86b1-e05dc474292a",
   "metadata": {},
   "outputs": [],
   "source": [
    "#turn the predictions into columns of a new dataframe and save them to a csv file\n",
    "predicted_data_final={\n",
    "'hazard-category': HZ_val_prediction,\n",
    "'product-category': PZ_val_prediction\n",
    "    \n",
    "}\n",
    "df_final=pd.DataFrame(predicted_data_final)\n",
    "\n",
    "# Save the DataFrame to a CSV file\n",
    "df_final.to_csv('st1_text_dense.csv', index=False)\n"
   ]
  },
  {
   "cell_type": "code",
   "execution_count": null,
   "id": "345e5f8b-0d72-4228-86ca-106718610afe",
   "metadata": {},
   "outputs": [],
   "source": []
  }
 ],
 "metadata": {
  "kernelspec": {
   "display_name": "Python 3 (ipykernel)",
   "language": "python",
   "name": "python3"
  },
  "language_info": {
   "codemirror_mode": {
    "name": "ipython",
    "version": 3
   },
   "file_extension": ".py",
   "mimetype": "text/x-python",
   "name": "python",
   "nbconvert_exporter": "python",
   "pygments_lexer": "ipython3",
   "version": "3.11.5"
  }
 },
 "nbformat": 4,
 "nbformat_minor": 5
}
